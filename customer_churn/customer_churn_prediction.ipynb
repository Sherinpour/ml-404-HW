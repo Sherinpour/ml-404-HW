{
  "cells": [
    {
      "cell_type": "markdown",
      "id": "stainless-prefix",
      "metadata": {
        "id": "stainless-prefix",
        "papermill": {
          "duration": 0.089836,
          "end_time": "2021-06-29T09:02:44.611509",
          "exception": false,
          "start_time": "2021-06-29T09:02:44.521673",
          "status": "completed"
        },
        "tags": []
      },
      "source": [
        "**<center> <span style=\"color:#0F52BA;font-family:serif; font-size:34px;\"> TELECOM CUSTOMER CHURN PREDICTION 📈</span> </center>**"
      ]
    },
    {
      "cell_type": "markdown",
      "id": "declared-wednesday",
      "metadata": {
        "id": "declared-wednesday",
        "papermill": {
          "duration": 0.097,
          "end_time": "2021-06-29T09:02:44.802246",
          "exception": false,
          "start_time": "2021-06-29T09:02:44.705246",
          "status": "completed"
        },
        "tags": []
      },
      "source": [
        "<style>\n",
        "img\n",
        "{\n",
        "    display:block;\n",
        "    float:none;\n",
        "    margin-left:auto;\n",
        "    margin-right:auto;\n",
        "    width:80%;\n",
        "}\n",
        "</style>"
      ]
    },
    {
      "cell_type": "markdown",
      "id": "major-milan",
      "metadata": {
        "id": "major-milan",
        "papermill": {
          "duration": 0.09402,
          "end_time": "2021-06-29T09:02:44.983211",
          "exception": false,
          "start_time": "2021-06-29T09:02:44.889191",
          "status": "completed"
        },
        "tags": []
      },
      "source": [
        "<center><span style=\"font-family:Palatino; font-size:22px;\"><i> Did you know that attracting a new customer costs <span style=\"color:#DC143C;\">five times</span> as much as keeping an existing one?</i></span> </center>"
      ]
    },
    {
      "cell_type": "markdown",
      "id": "yellow-freeware",
      "metadata": {
        "execution": {
          "iopub.execute_input": "2021-06-15T12:05:58.426483Z",
          "iopub.status.busy": "2021-06-15T12:05:58.425675Z",
          "iopub.status.idle": "2021-06-15T12:05:58.442351Z",
          "shell.execute_reply": "2021-06-15T12:05:58.440063Z",
          "shell.execute_reply.started": "2021-06-15T12:05:58.42635Z"
        },
        "id": "yellow-freeware",
        "papermill": {
          "duration": 0.096152,
          "end_time": "2021-06-29T09:02:45.343890",
          "exception": false,
          "start_time": "2021-06-29T09:02:45.247738",
          "status": "completed"
        },
        "tags": []
      },
      "source": [
        "# <span style=\"font-family:serif; font-size:28px;\"> Content</span>\n",
        "\n",
        "1. [Introduction](#1)\n",
        "    * [What is Customer Churn?](#2)\n",
        "    * [How can customer churn be reducded?](#3)\n",
        "    * [Objectives](#4)\n",
        "2. [Loading libraries and data](#5)\n",
        "3. [Undertanding the data](#6)\n",
        "4. [Visualize missing values](#7)\n",
        "5. [Data Manipulation](#8)\n",
        "6. [Data Visualization](#9)\n",
        "7. [Data Preprocessing](#10)\n",
        "   * [Standardizing numeric attributes](#111)\n",
        "8. [Machine Learning Model Evaluations and Predictions](#11)\n",
        "   * [KNN](#101)\n",
        "   * [SVC](#102)\n",
        "   * [Random Forest](#103)\n",
        "   * [Logistic Regression](#104)\n",
        "   * [Decision Tree Classifier](#105)\n",
        "   * [AdaBoost Classifier](#106)\n",
        "   * [Gradient Boosting Classifier](#107)\n",
        "   * [Voting Classifier](#108)\n",
        "\n"
      ]
    },
    {
      "cell_type": "markdown",
      "id": "convenient-growing",
      "metadata": {
        "id": "convenient-growing",
        "papermill": {
          "duration": 0.085149,
          "end_time": "2021-06-29T09:02:45.517257",
          "exception": false,
          "start_time": "2021-06-29T09:02:45.432108",
          "status": "completed"
        },
        "tags": []
      },
      "source": [
        "<a id = \"1\" ></a>\n",
        "# <span style=\"font-family:serif; font-size:28px;\"> 1. Introduction</span>\n",
        "<a id = \"introduction\" ></a>"
      ]
    },
    {
      "cell_type": "markdown",
      "id": "furnished-tracy",
      "metadata": {
        "id": "furnished-tracy",
        "papermill": {
          "duration": 0.08721,
          "end_time": "2021-06-29T09:02:45.689796",
          "exception": false,
          "start_time": "2021-06-29T09:02:45.602586",
          "status": "completed"
        },
        "tags": []
      },
      "source": [
        "<a id = \"2\" ></a>\n",
        "#### <b>What is Customer Churn?</b>\n",
        "<span style=\"font-size:16px;\">  Customer churn is defined as when customers or subscribers discontinue doing business with a firm or service. </span>\n",
        "\n",
        "<span style=\"font-size:16px;\"> Customers in the telecom industry can choose from a variety of service providers and actively switch from one to the next. The telecommunications business has an annual churn rate of 15-25 percent in this highly competitive market.</span>\n",
        "\n",
        "<span style=\"font-size:16px;\"> Individualized customer retention is tough because most firms have a large number of customers and can't afford to devote much time to each of them. The costs would be too great, outweighing the additional revenue. However, if a corporation could forecast which customers are likely to leave ahead of time, it could focus customer retention efforts only on these \"high risk\" clients. The ultimate goal is to expand its coverage area and retrieve more\n",
        "customers loyalty. The core to succeed in this market lies in the customer itself.\n",
        "</span>\n",
        "\n",
        "<span style=\"font-size:16px;\"> Customer churn is a critical metric because it is much less expensive to retain existing customers than it is to acquire new customers.</span>\n",
        "\n",
        "<a id=\"churn\"></a>\n",
        "<a id = \"3\" ></a>\n",
        "\n",
        "<span style=\"font-size:16px;\"><b>To reduce customer churn, telecom companies need to predict which customers are at high risk of churn.</b></span>\n",
        "\n",
        "<span style=\"font-size:16px;\"> To detect early signs of potential churn, one must first develop a holistic view of the customers and their interactions across numerous channels, including store/branch visits, product purchase histories, customer service calls, Web-based transactions, and social media interactions, to mention a few. </span>\n",
        "\n",
        "<span style=\"font-size:16px;\">As a result, by addressing churn, these businesses may not only preserve their market position, but also grow and thrive. More customers they have in their network, the lower the cost of initiation and the larger the profit. As a result, the company's key focus for success is reducing client attrition and implementing effective retention strategy. </span>\n",
        "<a id=\"reduce\"></a>\n",
        "\n",
        "<a id = \"4\" ></a>\n",
        "#### <b> Objectives</b>\n",
        "I will explore the data and try to answer some questions like:\n",
        "* What's the % of Churn Customers and customers that keep in with the active services?\n",
        "* Is there any patterns in Churn Customers based on the gender?\n",
        "* Is there any patterns/preference in Churn Customers based on the type of service provided?\n",
        "* What's the most profitable service types?\n",
        "* Which features and services are most profitable?\n",
        "* Many more questions that will arise during the analysis\n",
        "<a id=\"objective\"></a>"
      ]
    },
    {
      "cell_type": "markdown",
      "id": "nuclear-generator",
      "metadata": {
        "id": "nuclear-generator",
        "papermill": {
          "duration": 0.086335,
          "end_time": "2021-06-29T09:02:45.861908",
          "exception": false,
          "start_time": "2021-06-29T09:02:45.775573",
          "status": "completed"
        },
        "tags": []
      },
      "source": [
        "___"
      ]
    },
    {
      "cell_type": "markdown",
      "id": "patient-statistics",
      "metadata": {
        "id": "patient-statistics",
        "papermill": {
          "duration": 0.086411,
          "end_time": "2021-06-29T09:02:46.034553",
          "exception": false,
          "start_time": "2021-06-29T09:02:45.948142",
          "status": "completed"
        },
        "tags": []
      },
      "source": [
        "<a id = \"5\" ></a>\n",
        "# <span style=\"font-family:serif; font-size:28px;\"> 2. Loading libraries and data</span>\n",
        "<a id=\"loading\"></a>"
      ]
    },
    {
      "cell_type": "code",
      "execution_count": 1,
      "id": "spiritual-candy",
      "metadata": {
        "_cell_guid": "b1076dfc-b9ad-4769-8c92-a6c4dae69d19",
        "_uuid": "8f2839f25d086af736a60e9eeb907d3b93b6e0e5",
        "execution": {
          "iopub.execute_input": "2021-06-29T09:02:46.219388Z",
          "iopub.status.busy": "2021-06-29T09:02:46.218774Z",
          "iopub.status.idle": "2021-06-29T09:02:48.542138Z",
          "shell.execute_reply": "2021-06-29T09:02:48.542687Z",
          "shell.execute_reply.started": "2021-06-29T08:55:19.913161Z"
        },
        "id": "spiritual-candy",
        "papermill": {
          "duration": 2.421865,
          "end_time": "2021-06-29T09:02:48.542982",
          "exception": false,
          "start_time": "2021-06-29T09:02:46.121117",
          "status": "completed"
        },
        "tags": []
      },
      "outputs": [],
      "source": [
        "import pandas as pd\n",
        "import numpy as np\n",
        "import missingno as msno\n",
        "import matplotlib.pyplot as plt\n",
        "import seaborn as sns\n",
        "import plotly.express as px\n",
        "import plotly.graph_objects as go\n",
        "from plotly.subplots import make_subplots\n",
        "import warnings\n",
        "warnings.filterwarnings('ignore')"
      ]
    },
    {
      "cell_type": "code",
      "execution_count": 2,
      "id": "failing-consolidation",
      "metadata": {
        "execution": {
          "iopub.execute_input": "2021-06-29T09:02:48.723347Z",
          "iopub.status.busy": "2021-06-29T09:02:48.722671Z",
          "iopub.status.idle": "2021-06-29T09:02:49.349604Z",
          "shell.execute_reply": "2021-06-29T09:02:49.349047Z",
          "shell.execute_reply.started": "2021-06-29T08:55:22.284433Z"
        },
        "id": "failing-consolidation",
        "papermill": {
          "duration": 0.720873,
          "end_time": "2021-06-29T09:02:49.349754",
          "exception": false,
          "start_time": "2021-06-29T09:02:48.628881",
          "status": "completed"
        },
        "tags": []
      },
      "outputs": [],
      "source": [
        "from sklearn.preprocessing import StandardScaler\n",
        "from sklearn.preprocessing import LabelEncoder\n",
        "\n",
        "from sklearn.tree import DecisionTreeClassifier\n",
        "from sklearn.ensemble import RandomForestClassifier\n",
        "from sklearn.naive_bayes import GaussianNB\n",
        "from sklearn.neighbors import KNeighborsClassifier\n",
        "from sklearn.svm import SVC\n",
        "from sklearn.neural_network import MLPClassifier\n",
        "from sklearn.ensemble import AdaBoostClassifier\n",
        "from sklearn.ensemble import VotingClassifier\n",
        "from sklearn.ensemble import GradientBoostingClassifier\n",
        "from sklearn.ensemble import ExtraTreesClassifier\n",
        "from sklearn.linear_model import LogisticRegression\n",
        "from sklearn.model_selection import train_test_split\n",
        "from sklearn.metrics import accuracy_score\n",
        "from xgboost import XGBClassifier\n",
        "# from catboost import CatBoostClassifier\n",
        "from sklearn import metrics\n",
        "from sklearn.metrics import roc_curve, auc\n",
        "from sklearn.metrics import recall_score, confusion_matrix, precision_score, f1_score, accuracy_score, classification_report"
      ]
    },
    {
      "cell_type": "code",
      "execution_count": 3,
      "id": "hidden-flash",
      "metadata": {
        "execution": {
          "iopub.execute_input": "2021-06-29T09:02:49.525459Z",
          "iopub.status.busy": "2021-06-29T09:02:49.524816Z",
          "iopub.status.idle": "2021-06-29T09:02:49.586294Z",
          "shell.execute_reply": "2021-06-29T09:02:49.585732Z",
          "shell.execute_reply.started": "2021-06-29T08:55:22.965654Z"
        },
        "id": "hidden-flash",
        "papermill": {
          "duration": 0.151159,
          "end_time": "2021-06-29T09:02:49.586502",
          "exception": false,
          "start_time": "2021-06-29T09:02:49.435343",
          "status": "completed"
        },
        "tags": []
      },
      "outputs": [],
      "source": [
        "#loading data\n",
        "df = pd.read_csv('data.csv')"
      ]
    },
    {
      "cell_type": "markdown",
      "id": "lovely-budapest",
      "metadata": {
        "id": "lovely-budapest",
        "papermill": {
          "duration": 0.086405,
          "end_time": "2021-06-29T09:02:49.759279",
          "exception": false,
          "start_time": "2021-06-29T09:02:49.672874",
          "status": "completed"
        },
        "tags": []
      },
      "source": [
        "___"
      ]
    },
    {
      "cell_type": "markdown",
      "id": "built-collins",
      "metadata": {
        "id": "built-collins",
        "papermill": {
          "duration": 0.085769,
          "end_time": "2021-06-29T09:02:49.931637",
          "exception": false,
          "start_time": "2021-06-29T09:02:49.845868",
          "status": "completed"
        },
        "tags": []
      },
      "source": [
        "<a id = \"6\" ></a>\n",
        "# <span style=\"font-family:serif; font-size:28px;\"> 3. Undertanding the data</span>\n",
        "<a id = \"Undertanding the data\" ></a>"
      ]
    },
    {
      "cell_type": "markdown",
      "id": "fleet-literacy",
      "metadata": {
        "execution": {
          "iopub.execute_input": "2021-06-15T05:44:20.072466Z",
          "iopub.status.busy": "2021-06-15T05:44:20.072025Z",
          "iopub.status.idle": "2021-06-15T05:44:20.084216Z",
          "shell.execute_reply": "2021-06-15T05:44:20.083141Z",
          "shell.execute_reply.started": "2021-06-15T05:44:20.072376Z"
        },
        "id": "fleet-literacy",
        "papermill": {
          "duration": 0.085872,
          "end_time": "2021-06-29T09:02:50.104207",
          "exception": false,
          "start_time": "2021-06-29T09:02:50.018335",
          "status": "completed"
        },
        "tags": []
      },
      "source": [
        "Each row represents a customer, each column contains customer’s attributes described on the column Metadata."
      ]
    },
    {
      "cell_type": "code",
      "execution_count": 4,
      "id": "literary-proof",
      "metadata": {
        "colab": {
          "base_uri": "https://localhost:8080/",
          "height": 342
        },
        "execution": {
          "iopub.execute_input": "2021-06-29T09:02:50.300506Z",
          "iopub.status.busy": "2021-06-29T09:02:50.299841Z",
          "iopub.status.idle": "2021-06-29T09:02:50.329567Z",
          "shell.execute_reply": "2021-06-29T09:02:50.329060Z",
          "shell.execute_reply.started": "2021-06-29T08:55:23.025094Z"
        },
        "id": "literary-proof",
        "outputId": "8460d4d9-d663-44e4-e8be-85cad64e8fbb",
        "papermill": {
          "duration": 0.136188,
          "end_time": "2021-06-29T09:02:50.329704",
          "exception": false,
          "start_time": "2021-06-29T09:02:50.193516",
          "status": "completed"
        },
        "tags": []
      },
      "outputs": [
        {
          "data": {
            "text/html": [
              "<div>\n",
              "<style scoped>\n",
              "    .dataframe tbody tr th:only-of-type {\n",
              "        vertical-align: middle;\n",
              "    }\n",
              "\n",
              "    .dataframe tbody tr th {\n",
              "        vertical-align: top;\n",
              "    }\n",
              "\n",
              "    .dataframe thead th {\n",
              "        text-align: right;\n",
              "    }\n",
              "</style>\n",
              "<table border=\"1\" class=\"dataframe\">\n",
              "  <thead>\n",
              "    <tr style=\"text-align: right;\">\n",
              "      <th></th>\n",
              "      <th>customerID</th>\n",
              "      <th>gender</th>\n",
              "      <th>SeniorCitizen</th>\n",
              "      <th>Partner</th>\n",
              "      <th>Dependents</th>\n",
              "      <th>tenure</th>\n",
              "      <th>PhoneService</th>\n",
              "      <th>MultipleLines</th>\n",
              "      <th>InternetService</th>\n",
              "      <th>OnlineSecurity</th>\n",
              "      <th>...</th>\n",
              "      <th>DeviceProtection</th>\n",
              "      <th>TechSupport</th>\n",
              "      <th>StreamingTV</th>\n",
              "      <th>StreamingMovies</th>\n",
              "      <th>Contract</th>\n",
              "      <th>PaperlessBilling</th>\n",
              "      <th>PaymentMethod</th>\n",
              "      <th>MonthlyCharges</th>\n",
              "      <th>TotalCharges</th>\n",
              "      <th>Churn</th>\n",
              "    </tr>\n",
              "  </thead>\n",
              "  <tbody>\n",
              "    <tr>\n",
              "      <th>0</th>\n",
              "      <td>7590-VHVEG</td>\n",
              "      <td>Female</td>\n",
              "      <td>0</td>\n",
              "      <td>Yes</td>\n",
              "      <td>No</td>\n",
              "      <td>1</td>\n",
              "      <td>No</td>\n",
              "      <td>No phone service</td>\n",
              "      <td>DSL</td>\n",
              "      <td>No</td>\n",
              "      <td>...</td>\n",
              "      <td>No</td>\n",
              "      <td>No</td>\n",
              "      <td>No</td>\n",
              "      <td>No</td>\n",
              "      <td>Month-to-month</td>\n",
              "      <td>Yes</td>\n",
              "      <td>Electronic check</td>\n",
              "      <td>29.85</td>\n",
              "      <td>29.85</td>\n",
              "      <td>No</td>\n",
              "    </tr>\n",
              "    <tr>\n",
              "      <th>1</th>\n",
              "      <td>5575-GNVDE</td>\n",
              "      <td>Male</td>\n",
              "      <td>0</td>\n",
              "      <td>No</td>\n",
              "      <td>No</td>\n",
              "      <td>34</td>\n",
              "      <td>Yes</td>\n",
              "      <td>No</td>\n",
              "      <td>DSL</td>\n",
              "      <td>Yes</td>\n",
              "      <td>...</td>\n",
              "      <td>Yes</td>\n",
              "      <td>No</td>\n",
              "      <td>No</td>\n",
              "      <td>No</td>\n",
              "      <td>One year</td>\n",
              "      <td>No</td>\n",
              "      <td>Mailed check</td>\n",
              "      <td>56.95</td>\n",
              "      <td>1889.5</td>\n",
              "      <td>No</td>\n",
              "    </tr>\n",
              "    <tr>\n",
              "      <th>2</th>\n",
              "      <td>3668-QPYBK</td>\n",
              "      <td>Male</td>\n",
              "      <td>0</td>\n",
              "      <td>No</td>\n",
              "      <td>No</td>\n",
              "      <td>2</td>\n",
              "      <td>Yes</td>\n",
              "      <td>No</td>\n",
              "      <td>DSL</td>\n",
              "      <td>Yes</td>\n",
              "      <td>...</td>\n",
              "      <td>No</td>\n",
              "      <td>No</td>\n",
              "      <td>No</td>\n",
              "      <td>No</td>\n",
              "      <td>Month-to-month</td>\n",
              "      <td>Yes</td>\n",
              "      <td>Mailed check</td>\n",
              "      <td>53.85</td>\n",
              "      <td>108.15</td>\n",
              "      <td>Yes</td>\n",
              "    </tr>\n",
              "    <tr>\n",
              "      <th>3</th>\n",
              "      <td>7795-CFOCW</td>\n",
              "      <td>Male</td>\n",
              "      <td>0</td>\n",
              "      <td>No</td>\n",
              "      <td>No</td>\n",
              "      <td>45</td>\n",
              "      <td>No</td>\n",
              "      <td>No phone service</td>\n",
              "      <td>DSL</td>\n",
              "      <td>Yes</td>\n",
              "      <td>...</td>\n",
              "      <td>Yes</td>\n",
              "      <td>Yes</td>\n",
              "      <td>No</td>\n",
              "      <td>No</td>\n",
              "      <td>One year</td>\n",
              "      <td>No</td>\n",
              "      <td>Bank transfer (automatic)</td>\n",
              "      <td>42.30</td>\n",
              "      <td>1840.75</td>\n",
              "      <td>No</td>\n",
              "    </tr>\n",
              "    <tr>\n",
              "      <th>4</th>\n",
              "      <td>9237-HQITU</td>\n",
              "      <td>Female</td>\n",
              "      <td>0</td>\n",
              "      <td>No</td>\n",
              "      <td>No</td>\n",
              "      <td>2</td>\n",
              "      <td>Yes</td>\n",
              "      <td>No</td>\n",
              "      <td>Fiber optic</td>\n",
              "      <td>No</td>\n",
              "      <td>...</td>\n",
              "      <td>No</td>\n",
              "      <td>No</td>\n",
              "      <td>No</td>\n",
              "      <td>No</td>\n",
              "      <td>Month-to-month</td>\n",
              "      <td>Yes</td>\n",
              "      <td>Electronic check</td>\n",
              "      <td>70.70</td>\n",
              "      <td>151.65</td>\n",
              "      <td>Yes</td>\n",
              "    </tr>\n",
              "  </tbody>\n",
              "</table>\n",
              "<p>5 rows × 21 columns</p>\n",
              "</div>"
            ],
            "text/plain": [
              "   customerID  gender  SeniorCitizen Partner Dependents  tenure PhoneService  \\\n",
              "0  7590-VHVEG  Female              0     Yes         No       1           No   \n",
              "1  5575-GNVDE    Male              0      No         No      34          Yes   \n",
              "2  3668-QPYBK    Male              0      No         No       2          Yes   \n",
              "3  7795-CFOCW    Male              0      No         No      45           No   \n",
              "4  9237-HQITU  Female              0      No         No       2          Yes   \n",
              "\n",
              "      MultipleLines InternetService OnlineSecurity  ... DeviceProtection  \\\n",
              "0  No phone service             DSL             No  ...               No   \n",
              "1                No             DSL            Yes  ...              Yes   \n",
              "2                No             DSL            Yes  ...               No   \n",
              "3  No phone service             DSL            Yes  ...              Yes   \n",
              "4                No     Fiber optic             No  ...               No   \n",
              "\n",
              "  TechSupport StreamingTV StreamingMovies        Contract PaperlessBilling  \\\n",
              "0          No          No              No  Month-to-month              Yes   \n",
              "1          No          No              No        One year               No   \n",
              "2          No          No              No  Month-to-month              Yes   \n",
              "3         Yes          No              No        One year               No   \n",
              "4          No          No              No  Month-to-month              Yes   \n",
              "\n",
              "               PaymentMethod MonthlyCharges  TotalCharges Churn  \n",
              "0           Electronic check          29.85         29.85    No  \n",
              "1               Mailed check          56.95        1889.5    No  \n",
              "2               Mailed check          53.85        108.15   Yes  \n",
              "3  Bank transfer (automatic)          42.30       1840.75    No  \n",
              "4           Electronic check          70.70        151.65   Yes  \n",
              "\n",
              "[5 rows x 21 columns]"
            ]
          },
          "execution_count": 4,
          "metadata": {},
          "output_type": "execute_result"
        }
      ],
      "source": [
        "# show head of data\n",
        "df.head()"
      ]
    },
    {
      "cell_type": "markdown",
      "id": "waiting-pharmaceutical",
      "metadata": {
        "id": "waiting-pharmaceutical",
        "papermill": {
          "duration": 0.0862,
          "end_time": "2021-06-29T09:02:50.503013",
          "exception": false,
          "start_time": "2021-06-29T09:02:50.416813",
          "status": "completed"
        },
        "tags": []
      },
      "source": [
        "**The data set includes information about:**\n",
        "* **Customers who left within the last month** – the column is called Churn\n",
        "\n",
        "* **Services that each customer has signed up for** – phone, multiple lines, internet, online security, online backup, device protection, tech support, and streaming TV and movies\n",
        "\n",
        "* **Customer account information** - how long they’ve been a customer, contract, payment method, paperless billing, monthly charges, and total charges\n",
        "\n",
        "* **Demographic info about customers** – gender, age range, and if they have partners and dependents"
      ]
    },
    {
      "cell_type": "code",
      "execution_count": 5,
      "id": "macro-replication",
      "metadata": {
        "colab": {
          "base_uri": "https://localhost:8080/"
        },
        "execution": {
          "iopub.execute_input": "2021-06-29T09:02:50.681202Z",
          "iopub.status.busy": "2021-06-29T09:02:50.680538Z",
          "iopub.status.idle": "2021-06-29T09:02:50.683672Z",
          "shell.execute_reply": "2021-06-29T09:02:50.683068Z",
          "shell.execute_reply.started": "2021-06-29T08:55:23.072763Z"
        },
        "id": "macro-replication",
        "outputId": "71a8b276-b046-4dca-c222-f886da46241c",
        "papermill": {
          "duration": 0.094226,
          "end_time": "2021-06-29T09:02:50.683804",
          "exception": false,
          "start_time": "2021-06-29T09:02:50.589578",
          "status": "completed"
        },
        "tags": []
      },
      "outputs": [
        {
          "data": {
            "text/plain": [
              "(7043, 21)"
            ]
          },
          "execution_count": 5,
          "metadata": {},
          "output_type": "execute_result"
        }
      ],
      "source": [
        "# Get data dimension (n_data, d_data)\n",
        "df.shape"
      ]
    },
    {
      "cell_type": "code",
      "execution_count": 6,
      "id": "complicated-norman",
      "metadata": {
        "colab": {
          "base_uri": "https://localhost:8080/"
        },
        "execution": {
          "iopub.execute_input": "2021-06-29T09:02:50.876535Z",
          "iopub.status.busy": "2021-06-29T09:02:50.875484Z",
          "iopub.status.idle": "2021-06-29T09:02:50.894635Z",
          "shell.execute_reply": "2021-06-29T09:02:50.895202Z",
          "shell.execute_reply.started": "2021-06-29T08:55:23.078824Z"
        },
        "id": "complicated-norman",
        "outputId": "18ac4662-6a03-4258-b9b6-87796c6cd8a0",
        "papermill": {
          "duration": 0.124616,
          "end_time": "2021-06-29T09:02:50.895466",
          "exception": false,
          "start_time": "2021-06-29T09:02:50.770850",
          "status": "completed"
        },
        "tags": []
      },
      "outputs": [
        {
          "name": "stdout",
          "output_type": "stream",
          "text": [
            "<class 'pandas.core.frame.DataFrame'>\n",
            "RangeIndex: 7043 entries, 0 to 7042\n",
            "Data columns (total 21 columns):\n",
            " #   Column            Non-Null Count  Dtype  \n",
            "---  ------            --------------  -----  \n",
            " 0   customerID        7043 non-null   object \n",
            " 1   gender            7043 non-null   object \n",
            " 2   SeniorCitizen     7043 non-null   int64  \n",
            " 3   Partner           7043 non-null   object \n",
            " 4   Dependents        7043 non-null   object \n",
            " 5   tenure            7043 non-null   int64  \n",
            " 6   PhoneService      7043 non-null   object \n",
            " 7   MultipleLines     7043 non-null   object \n",
            " 8   InternetService   7043 non-null   object \n",
            " 9   OnlineSecurity    7043 non-null   object \n",
            " 10  OnlineBackup      7043 non-null   object \n",
            " 11  DeviceProtection  7043 non-null   object \n",
            " 12  TechSupport       7043 non-null   object \n",
            " 13  StreamingTV       7043 non-null   object \n",
            " 14  StreamingMovies   7043 non-null   object \n",
            " 15  Contract          7043 non-null   object \n",
            " 16  PaperlessBilling  7043 non-null   object \n",
            " 17  PaymentMethod     7043 non-null   object \n",
            " 18  MonthlyCharges    7043 non-null   float64\n",
            " 19  TotalCharges      7043 non-null   object \n",
            " 20  Churn             7043 non-null   object \n",
            "dtypes: float64(1), int64(2), object(18)\n",
            "memory usage: 1.1+ MB\n"
          ]
        }
      ],
      "source": [
        "# Get information of different columns\n",
        "df.info()"
      ]
    },
    {
      "cell_type": "code",
      "execution_count": 7,
      "id": "delayed-sailing",
      "metadata": {
        "colab": {
          "base_uri": "https://localhost:8080/"
        },
        "execution": {
          "iopub.execute_input": "2021-06-29T09:02:51.077339Z",
          "iopub.status.busy": "2021-06-29T09:02:51.076424Z",
          "iopub.status.idle": "2021-06-29T09:02:51.081960Z",
          "shell.execute_reply": "2021-06-29T09:02:51.082415Z",
          "shell.execute_reply.started": "2021-06-29T08:55:23.123211Z"
        },
        "id": "delayed-sailing",
        "outputId": "9d16aac6-a425-487d-d323-b77f9c5e6f23",
        "papermill": {
          "duration": 0.09838,
          "end_time": "2021-06-29T09:02:51.082588",
          "exception": false,
          "start_time": "2021-06-29T09:02:50.984208",
          "status": "completed"
        },
        "tags": []
      },
      "outputs": [
        {
          "data": {
            "text/plain": [
              "array(['customerID', 'gender', 'SeniorCitizen', 'Partner', 'Dependents',\n",
              "       'tenure', 'PhoneService', 'MultipleLines', 'InternetService',\n",
              "       'OnlineSecurity', 'OnlineBackup', 'DeviceProtection',\n",
              "       'TechSupport', 'StreamingTV', 'StreamingMovies', 'Contract',\n",
              "       'PaperlessBilling', 'PaymentMethod', 'MonthlyCharges',\n",
              "       'TotalCharges', 'Churn'], dtype=object)"
            ]
          },
          "execution_count": 7,
          "metadata": {},
          "output_type": "execute_result"
        }
      ],
      "source": [
        "# Get column names\n",
        "df.columns.values"
      ]
    },
    {
      "cell_type": "code",
      "execution_count": 8,
      "id": "coral-recommendation",
      "metadata": {
        "colab": {
          "base_uri": "https://localhost:8080/",
          "height": 743
        },
        "execution": {
          "iopub.execute_input": "2021-06-29T09:02:51.265417Z",
          "iopub.status.busy": "2021-06-29T09:02:51.264418Z",
          "iopub.status.idle": "2021-06-29T09:02:51.271460Z",
          "shell.execute_reply": "2021-06-29T09:02:51.271900Z",
          "shell.execute_reply.started": "2021-06-29T08:55:23.130697Z"
        },
        "id": "coral-recommendation",
        "outputId": "852f08c5-9787-4d58-fdd3-fa3b6890e8e9",
        "papermill": {
          "duration": 0.101852,
          "end_time": "2021-06-29T09:02:51.272069",
          "exception": false,
          "start_time": "2021-06-29T09:02:51.170217",
          "status": "completed"
        },
        "tags": []
      },
      "outputs": [
        {
          "data": {
            "text/plain": [
              "customerID           object\n",
              "gender               object\n",
              "SeniorCitizen         int64\n",
              "Partner              object\n",
              "Dependents           object\n",
              "tenure                int64\n",
              "PhoneService         object\n",
              "MultipleLines        object\n",
              "InternetService      object\n",
              "OnlineSecurity       object\n",
              "OnlineBackup         object\n",
              "DeviceProtection     object\n",
              "TechSupport          object\n",
              "StreamingTV          object\n",
              "StreamingMovies      object\n",
              "Contract             object\n",
              "PaperlessBilling     object\n",
              "PaymentMethod        object\n",
              "MonthlyCharges      float64\n",
              "TotalCharges         object\n",
              "Churn                object\n",
              "dtype: object"
            ]
          },
          "execution_count": 8,
          "metadata": {},
          "output_type": "execute_result"
        }
      ],
      "source": [
        "# Get type of each column\n",
        "df.dtypes"
      ]
    },
    {
      "cell_type": "markdown",
      "id": "developed-survivor",
      "metadata": {
        "execution": {
          "iopub.execute_input": "2021-06-15T05:57:23.426034Z",
          "iopub.status.busy": "2021-06-15T05:57:23.424964Z",
          "iopub.status.idle": "2021-06-15T05:57:23.433922Z",
          "shell.execute_reply": "2021-06-15T05:57:23.432093Z",
          "shell.execute_reply.started": "2021-06-15T05:57:23.42599Z"
        },
        "id": "developed-survivor",
        "papermill": {
          "duration": 0.087655,
          "end_time": "2021-06-29T09:02:51.447872",
          "exception": false,
          "start_time": "2021-06-29T09:02:51.360217",
          "status": "completed"
        },
        "tags": []
      },
      "source": [
        "\n",
        "* The target the we will use to guide the exploration is **Churn**"
      ]
    },
    {
      "cell_type": "markdown",
      "id": "detailed-bradford",
      "metadata": {
        "id": "detailed-bradford",
        "papermill": {
          "duration": 0.087727,
          "end_time": "2021-06-29T09:02:51.623824",
          "exception": false,
          "start_time": "2021-06-29T09:02:51.536097",
          "status": "completed"
        },
        "tags": []
      },
      "source": [
        "***"
      ]
    },
    {
      "cell_type": "markdown",
      "id": "maritime-episode",
      "metadata": {
        "id": "maritime-episode",
        "papermill": {
          "duration": 0.088102,
          "end_time": "2021-06-29T09:02:51.800741",
          "exception": false,
          "start_time": "2021-06-29T09:02:51.712639",
          "status": "completed"
        },
        "tags": []
      },
      "source": [
        "<a id = \"7\" ></a>\n",
        "# <span style=\"font-family:serif; font-size:28px;\"> 4. Visualize missing values </span>\n",
        "<a id = \"missingvalue\" ></a>"
      ]
    },
    {
      "cell_type": "code",
      "execution_count": 9,
      "id": "insured-israeli",
      "metadata": {
        "colab": {
          "base_uri": "https://localhost:8080/",
          "height": 431
        },
        "execution": {
          "iopub.execute_input": "2021-06-29T09:02:51.981787Z",
          "iopub.status.busy": "2021-06-29T09:02:51.980787Z",
          "iopub.status.idle": "2021-06-29T09:02:52.647779Z",
          "shell.execute_reply": "2021-06-29T09:02:52.648272Z",
          "shell.execute_reply.started": "2021-06-29T08:55:23.148328Z"
        },
        "id": "insured-israeli",
        "outputId": "8b7ac5d9-8bc9-438c-eb7d-54a2f6876e38",
        "papermill": {
          "duration": 0.759173,
          "end_time": "2021-06-29T09:02:52.648460",
          "exception": false,
          "start_time": "2021-06-29T09:02:51.889287",
          "status": "completed"
        },
        "tags": []
      },
      "outputs": [
        {
          "data": {
            "image/png": "[encoded data removed]",
            "text/plain": [
              "<Figure size 2500x1000 with 2 Axes>"
            ]
          },
          "metadata": {},
          "output_type": "display_data"
        }
      ],
      "source": [
        "# Investigate missing values in data\n",
        "msno.matrix(df);"
      ]
    },
    {
      "cell_type": "markdown",
      "id": "tropical-humanity",
      "metadata": {
        "id": "tropical-humanity",
        "papermill": {
          "duration": 0.090991,
          "end_time": "2021-06-29T09:02:52.829503",
          "exception": false,
          "start_time": "2021-06-29T09:02:52.738512",
          "status": "completed"
        },
        "tags": []
      },
      "source": [
        "> Using this matrix we can very quickly find the pattern of missingness in the dataset.\n",
        "* From the above visualisation we can observe that it has no peculiar pattern that stands out. In fact there is no missing data."
      ]
    },
    {
      "cell_type": "markdown",
      "id": "enormous-reflection",
      "metadata": {
        "id": "enormous-reflection",
        "papermill": {
          "duration": 0.090765,
          "end_time": "2021-06-29T09:02:53.010673",
          "exception": false,
          "start_time": "2021-06-29T09:02:52.919908",
          "status": "completed"
        },
        "tags": []
      },
      "source": [
        "***"
      ]
    },
    {
      "cell_type": "markdown",
      "id": "shared-overview",
      "metadata": {
        "id": "shared-overview",
        "papermill": {
          "duration": 0.090921,
          "end_time": "2021-06-29T09:02:53.191994",
          "exception": false,
          "start_time": "2021-06-29T09:02:53.101073",
          "status": "completed"
        },
        "tags": []
      },
      "source": [
        "<a id = \"8\" ></a>\n",
        "# <span style=\"font-family:serif; font-size:28px;\"> 5. Data Manipulation </span>\n",
        "<a id = \"8\" ></a>"
      ]
    },
    {
      "cell_type": "code",
      "execution_count": 10,
      "id": "transsexual-prisoner",
      "metadata": {
        "colab": {
          "base_uri": "https://localhost:8080/",
          "height": 296
        },
        "execution": {
          "iopub.execute_input": "2021-06-29T09:02:53.400570Z",
          "iopub.status.busy": "2021-06-29T09:02:53.399875Z",
          "iopub.status.idle": "2021-06-29T09:02:53.404555Z",
          "shell.execute_reply": "2021-06-29T09:02:53.404015Z",
          "shell.execute_reply.started": "2021-06-29T08:55:23.763736Z"
        },
        "id": "transsexual-prisoner",
        "outputId": "b3cf73bb-3b21-4b86-d06e-98429087c8a9",
        "papermill": {
          "duration": 0.120918,
          "end_time": "2021-06-29T09:02:53.404705",
          "exception": false,
          "start_time": "2021-06-29T09:02:53.283787",
          "status": "completed"
        },
        "tags": []
      },
      "outputs": [
        {
          "data": {
            "text/html": [
              "<div>\n",
              "<style scoped>\n",
              "    .dataframe tbody tr th:only-of-type {\n",
              "        vertical-align: middle;\n",
              "    }\n",
              "\n",
              "    .dataframe tbody tr th {\n",
              "        vertical-align: top;\n",
              "    }\n",
              "\n",
              "    .dataframe thead th {\n",
              "        text-align: right;\n",
              "    }\n",
              "</style>\n",
              "<table border=\"1\" class=\"dataframe\">\n",
              "  <thead>\n",
              "    <tr style=\"text-align: right;\">\n",
              "      <th></th>\n",
              "      <th>gender</th>\n",
              "      <th>SeniorCitizen</th>\n",
              "      <th>Partner</th>\n",
              "      <th>Dependents</th>\n",
              "      <th>tenure</th>\n",
              "      <th>PhoneService</th>\n",
              "      <th>MultipleLines</th>\n",
              "      <th>InternetService</th>\n",
              "      <th>OnlineSecurity</th>\n",
              "      <th>OnlineBackup</th>\n",
              "      <th>DeviceProtection</th>\n",
              "      <th>TechSupport</th>\n",
              "      <th>StreamingTV</th>\n",
              "      <th>StreamingMovies</th>\n",
              "      <th>Contract</th>\n",
              "      <th>PaperlessBilling</th>\n",
              "      <th>PaymentMethod</th>\n",
              "      <th>MonthlyCharges</th>\n",
              "      <th>TotalCharges</th>\n",
              "      <th>Churn</th>\n",
              "    </tr>\n",
              "  </thead>\n",
              "  <tbody>\n",
              "    <tr>\n",
              "      <th>0</th>\n",
              "      <td>Female</td>\n",
              "      <td>0</td>\n",
              "      <td>Yes</td>\n",
              "      <td>No</td>\n",
              "      <td>1</td>\n",
              "      <td>No</td>\n",
              "      <td>No phone service</td>\n",
              "      <td>DSL</td>\n",
              "      <td>No</td>\n",
              "      <td>Yes</td>\n",
              "      <td>No</td>\n",
              "      <td>No</td>\n",
              "      <td>No</td>\n",
              "      <td>No</td>\n",
              "      <td>Month-to-month</td>\n",
              "      <td>Yes</td>\n",
              "      <td>Electronic check</td>\n",
              "      <td>29.85</td>\n",
              "      <td>29.85</td>\n",
              "      <td>No</td>\n",
              "    </tr>\n",
              "    <tr>\n",
              "      <th>1</th>\n",
              "      <td>Male</td>\n",
              "      <td>0</td>\n",
              "      <td>No</td>\n",
              "      <td>No</td>\n",
              "      <td>34</td>\n",
              "      <td>Yes</td>\n",
              "      <td>No</td>\n",
              "      <td>DSL</td>\n",
              "      <td>Yes</td>\n",
              "      <td>No</td>\n",
              "      <td>Yes</td>\n",
              "      <td>No</td>\n",
              "      <td>No</td>\n",
              "      <td>No</td>\n",
              "      <td>One year</td>\n",
              "      <td>No</td>\n",
              "      <td>Mailed check</td>\n",
              "      <td>56.95</td>\n",
              "      <td>1889.5</td>\n",
              "      <td>No</td>\n",
              "    </tr>\n",
              "    <tr>\n",
              "      <th>2</th>\n",
              "      <td>Male</td>\n",
              "      <td>0</td>\n",
              "      <td>No</td>\n",
              "      <td>No</td>\n",
              "      <td>2</td>\n",
              "      <td>Yes</td>\n",
              "      <td>No</td>\n",
              "      <td>DSL</td>\n",
              "      <td>Yes</td>\n",
              "      <td>Yes</td>\n",
              "      <td>No</td>\n",
              "      <td>No</td>\n",
              "      <td>No</td>\n",
              "      <td>No</td>\n",
              "      <td>Month-to-month</td>\n",
              "      <td>Yes</td>\n",
              "      <td>Mailed check</td>\n",
              "      <td>53.85</td>\n",
              "      <td>108.15</td>\n",
              "      <td>Yes</td>\n",
              "    </tr>\n",
              "    <tr>\n",
              "      <th>3</th>\n",
              "      <td>Male</td>\n",
              "      <td>0</td>\n",
              "      <td>No</td>\n",
              "      <td>No</td>\n",
              "      <td>45</td>\n",
              "      <td>No</td>\n",
              "      <td>No phone service</td>\n",
              "      <td>DSL</td>\n",
              "      <td>Yes</td>\n",
              "      <td>No</td>\n",
              "      <td>Yes</td>\n",
              "      <td>Yes</td>\n",
              "      <td>No</td>\n",
              "      <td>No</td>\n",
              "      <td>One year</td>\n",
              "      <td>No</td>\n",
              "      <td>Bank transfer (automatic)</td>\n",
              "      <td>42.30</td>\n",
              "      <td>1840.75</td>\n",
              "      <td>No</td>\n",
              "    </tr>\n",
              "    <tr>\n",
              "      <th>4</th>\n",
              "      <td>Female</td>\n",
              "      <td>0</td>\n",
              "      <td>No</td>\n",
              "      <td>No</td>\n",
              "      <td>2</td>\n",
              "      <td>Yes</td>\n",
              "      <td>No</td>\n",
              "      <td>Fiber optic</td>\n",
              "      <td>No</td>\n",
              "      <td>No</td>\n",
              "      <td>No</td>\n",
              "      <td>No</td>\n",
              "      <td>No</td>\n",
              "      <td>No</td>\n",
              "      <td>Month-to-month</td>\n",
              "      <td>Yes</td>\n",
              "      <td>Electronic check</td>\n",
              "      <td>70.70</td>\n",
              "      <td>151.65</td>\n",
              "      <td>Yes</td>\n",
              "    </tr>\n",
              "  </tbody>\n",
              "</table>\n",
              "</div>"
            ],
            "text/plain": [
              "   gender  SeniorCitizen Partner Dependents  tenure PhoneService  \\\n",
              "0  Female              0     Yes         No       1           No   \n",
              "1    Male              0      No         No      34          Yes   \n",
              "2    Male              0      No         No       2          Yes   \n",
              "3    Male              0      No         No      45           No   \n",
              "4  Female              0      No         No       2          Yes   \n",
              "\n",
              "      MultipleLines InternetService OnlineSecurity OnlineBackup  \\\n",
              "0  No phone service             DSL             No          Yes   \n",
              "1                No             DSL            Yes           No   \n",
              "2                No             DSL            Yes          Yes   \n",
              "3  No phone service             DSL            Yes           No   \n",
              "4                No     Fiber optic             No           No   \n",
              "\n",
              "  DeviceProtection TechSupport StreamingTV StreamingMovies        Contract  \\\n",
              "0               No          No          No              No  Month-to-month   \n",
              "1              Yes          No          No              No        One year   \n",
              "2               No          No          No              No  Month-to-month   \n",
              "3              Yes         Yes          No              No        One year   \n",
              "4               No          No          No              No  Month-to-month   \n",
              "\n",
              "  PaperlessBilling              PaymentMethod  MonthlyCharges TotalCharges  \\\n",
              "0              Yes           Electronic check           29.85        29.85   \n",
              "1               No               Mailed check           56.95       1889.5   \n",
              "2              Yes               Mailed check           53.85       108.15   \n",
              "3               No  Bank transfer (automatic)           42.30      1840.75   \n",
              "4              Yes           Electronic check           70.70       151.65   \n",
              "\n",
              "  Churn  \n",
              "0    No  \n",
              "1    No  \n",
              "2   Yes  \n",
              "3    No  \n",
              "4   Yes  "
            ]
          },
          "execution_count": 10,
          "metadata": {},
          "output_type": "execute_result"
        }
      ],
      "source": [
        "# Remove Customer Id column\n",
        "df = df.drop(['customerID'], axis = 1)\n",
        "df.head()"
      ]
    },
    {
      "cell_type": "markdown",
      "id": "leading-mississippi",
      "metadata": {
        "id": "leading-mississippi",
        "papermill": {
          "duration": 0.098712,
          "end_time": "2021-06-29T09:02:53.596469",
          "exception": false,
          "start_time": "2021-06-29T09:02:53.497757",
          "status": "completed"
        },
        "tags": []
      },
      "source": [
        "* On deep analysis, we can find some indirect missingness in our data (which can be in form of blankspaces). Let's see that!"
      ]
    },
    {
      "cell_type": "code",
      "execution_count": 11,
      "id": "asian-consideration",
      "metadata": {
        "colab": {
          "base_uri": "https://localhost:8080/",
          "height": 711
        },
        "execution": {
          "iopub.execute_input": "2021-06-29T09:02:53.803282Z",
          "iopub.status.busy": "2021-06-29T09:02:53.802186Z",
          "iopub.status.idle": "2021-06-29T09:02:53.834951Z",
          "shell.execute_reply": "2021-06-29T09:02:53.834396Z",
          "shell.execute_reply.started": "2021-06-29T08:55:23.791927Z"
        },
        "id": "asian-consideration",
        "outputId": "6e6691ca-b933-4bea-cd3b-7cca9d9c7bb5",
        "papermill": {
          "duration": 0.14258,
          "end_time": "2021-06-29T09:02:53.835104",
          "exception": false,
          "start_time": "2021-06-29T09:02:53.692524",
          "status": "completed"
        },
        "tags": []
      },
      "outputs": [
        {
          "data": {
            "text/plain": [
              "gender               0\n",
              "SeniorCitizen        0\n",
              "Partner              0\n",
              "Dependents           0\n",
              "tenure               0\n",
              "PhoneService         0\n",
              "MultipleLines        0\n",
              "InternetService      0\n",
              "OnlineSecurity       0\n",
              "OnlineBackup         0\n",
              "DeviceProtection     0\n",
              "TechSupport          0\n",
              "StreamingTV          0\n",
              "StreamingMovies      0\n",
              "Contract             0\n",
              "PaperlessBilling     0\n",
              "PaymentMethod        0\n",
              "MonthlyCharges       0\n",
              "TotalCharges        11\n",
              "Churn                0\n",
              "dtype: int64"
            ]
          },
          "execution_count": 11,
          "metadata": {},
          "output_type": "execute_result"
        }
      ],
      "source": [
        "# Invesitgate TotalCharges columns and verify whether all rows have correct number\n",
        "df['TotalCharges'] = pd.to_numeric(df.TotalCharges, errors='coerce')\n",
        "df.isnull().sum()"
      ]
    },
    {
      "cell_type": "markdown",
      "id": "secure-concert",
      "metadata": {
        "id": "secure-concert",
        "papermill": {
          "duration": 0.092778,
          "end_time": "2021-06-29T09:02:54.070912",
          "exception": false,
          "start_time": "2021-06-29T09:02:53.978134",
          "status": "completed"
        },
        "tags": []
      },
      "source": [
        "* Here we see that the TotalCharges has 11 missing values. Let's check this data."
      ]
    },
    {
      "cell_type": "code",
      "execution_count": 12,
      "id": "compressed-diving",
      "metadata": {
        "colab": {
          "base_uri": "https://localhost:8080/",
          "height": 571
        },
        "execution": {
          "iopub.execute_input": "2021-06-29T09:02:54.261646Z",
          "iopub.status.busy": "2021-06-29T09:02:54.260922Z",
          "iopub.status.idle": "2021-06-29T09:02:54.290124Z",
          "shell.execute_reply": "2021-06-29T09:02:54.290698Z",
          "shell.execute_reply.started": "2021-06-29T08:55:23.824465Z"
        },
        "id": "compressed-diving",
        "outputId": "bddb66d6-0625-4463-a867-d2f3b60c57f6",
        "papermill": {
          "duration": 0.127825,
          "end_time": "2021-06-29T09:02:54.290874",
          "exception": false,
          "start_time": "2021-06-29T09:02:54.163049",
          "status": "completed"
        },
        "tags": []
      },
      "outputs": [
        {
          "data": {
            "text/html": [
              "<div>\n",
              "<style scoped>\n",
              "    .dataframe tbody tr th:only-of-type {\n",
              "        vertical-align: middle;\n",
              "    }\n",
              "\n",
              "    .dataframe tbody tr th {\n",
              "        vertical-align: top;\n",
              "    }\n",
              "\n",
              "    .dataframe thead th {\n",
              "        text-align: right;\n",
              "    }\n",
              "</style>\n",
              "<table border=\"1\" class=\"dataframe\">\n",
              "  <thead>\n",
              "    <tr style=\"text-align: right;\">\n",
              "      <th></th>\n",
              "      <th>gender</th>\n",
              "      <th>SeniorCitizen</th>\n",
              "      <th>Partner</th>\n",
              "      <th>Dependents</th>\n",
              "      <th>tenure</th>\n",
              "      <th>PhoneService</th>\n",
              "      <th>MultipleLines</th>\n",
              "      <th>InternetService</th>\n",
              "      <th>OnlineSecurity</th>\n",
              "      <th>OnlineBackup</th>\n",
              "      <th>DeviceProtection</th>\n",
              "      <th>TechSupport</th>\n",
              "      <th>StreamingTV</th>\n",
              "      <th>StreamingMovies</th>\n",
              "      <th>Contract</th>\n",
              "      <th>PaperlessBilling</th>\n",
              "      <th>PaymentMethod</th>\n",
              "      <th>MonthlyCharges</th>\n",
              "      <th>TotalCharges</th>\n",
              "      <th>Churn</th>\n",
              "    </tr>\n",
              "  </thead>\n",
              "  <tbody>\n",
              "    <tr>\n",
              "      <th>488</th>\n",
              "      <td>Female</td>\n",
              "      <td>0</td>\n",
              "      <td>Yes</td>\n",
              "      <td>Yes</td>\n",
              "      <td>0</td>\n",
              "      <td>No</td>\n",
              "      <td>No phone service</td>\n",
              "      <td>DSL</td>\n",
              "      <td>Yes</td>\n",
              "      <td>No</td>\n",
              "      <td>Yes</td>\n",
              "      <td>Yes</td>\n",
              "      <td>Yes</td>\n",
              "      <td>No</td>\n",
              "      <td>Two year</td>\n",
              "      <td>Yes</td>\n",
              "      <td>Bank transfer (automatic)</td>\n",
              "      <td>52.55</td>\n",
              "      <td>NaN</td>\n",
              "      <td>No</td>\n",
              "    </tr>\n",
              "    <tr>\n",
              "      <th>753</th>\n",
              "      <td>Male</td>\n",
              "      <td>0</td>\n",
              "      <td>No</td>\n",
              "      <td>Yes</td>\n",
              "      <td>0</td>\n",
              "      <td>Yes</td>\n",
              "      <td>No</td>\n",
              "      <td>No</td>\n",
              "      <td>No internet service</td>\n",
              "      <td>No internet service</td>\n",
              "      <td>No internet service</td>\n",
              "      <td>No internet service</td>\n",
              "      <td>No internet service</td>\n",
              "      <td>No internet service</td>\n",
              "      <td>Two year</td>\n",
              "      <td>No</td>\n",
              "      <td>Mailed check</td>\n",
              "      <td>20.25</td>\n",
              "      <td>NaN</td>\n",
              "      <td>No</td>\n",
              "    </tr>\n",
              "    <tr>\n",
              "      <th>936</th>\n",
              "      <td>Female</td>\n",
              "      <td>0</td>\n",
              "      <td>Yes</td>\n",
              "      <td>Yes</td>\n",
              "      <td>0</td>\n",
              "      <td>Yes</td>\n",
              "      <td>No</td>\n",
              "      <td>DSL</td>\n",
              "      <td>Yes</td>\n",
              "      <td>Yes</td>\n",
              "      <td>Yes</td>\n",
              "      <td>No</td>\n",
              "      <td>Yes</td>\n",
              "      <td>Yes</td>\n",
              "      <td>Two year</td>\n",
              "      <td>No</td>\n",
              "      <td>Mailed check</td>\n",
              "      <td>80.85</td>\n",
              "      <td>NaN</td>\n",
              "      <td>No</td>\n",
              "    </tr>\n",
              "    <tr>\n",
              "      <th>1082</th>\n",
              "      <td>Male</td>\n",
              "      <td>0</td>\n",
              "      <td>Yes</td>\n",
              "      <td>Yes</td>\n",
              "      <td>0</td>\n",
              "      <td>Yes</td>\n",
              "      <td>Yes</td>\n",
              "      <td>No</td>\n",
              "      <td>No internet service</td>\n",
              "      <td>No internet service</td>\n",
              "      <td>No internet service</td>\n",
              "      <td>No internet service</td>\n",
              "      <td>No internet service</td>\n",
              "      <td>No internet service</td>\n",
              "      <td>Two year</td>\n",
              "      <td>No</td>\n",
              "      <td>Mailed check</td>\n",
              "      <td>25.75</td>\n",
              "      <td>NaN</td>\n",
              "      <td>No</td>\n",
              "    </tr>\n",
              "    <tr>\n",
              "      <th>1340</th>\n",
              "      <td>Female</td>\n",
              "      <td>0</td>\n",
              "      <td>Yes</td>\n",
              "      <td>Yes</td>\n",
              "      <td>0</td>\n",
              "      <td>No</td>\n",
              "      <td>No phone service</td>\n",
              "      <td>DSL</td>\n",
              "      <td>Yes</td>\n",
              "      <td>Yes</td>\n",
              "      <td>Yes</td>\n",
              "      <td>Yes</td>\n",
              "      <td>Yes</td>\n",
              "      <td>No</td>\n",
              "      <td>Two year</td>\n",
              "      <td>No</td>\n",
              "      <td>Credit card (automatic)</td>\n",
              "      <td>56.05</td>\n",
              "      <td>NaN</td>\n",
              "      <td>No</td>\n",
              "    </tr>\n",
              "    <tr>\n",
              "      <th>3331</th>\n",
              "      <td>Male</td>\n",
              "      <td>0</td>\n",
              "      <td>Yes</td>\n",
              "      <td>Yes</td>\n",
              "      <td>0</td>\n",
              "      <td>Yes</td>\n",
              "      <td>No</td>\n",
              "      <td>No</td>\n",
              "      <td>No internet service</td>\n",
              "      <td>No internet service</td>\n",
              "      <td>No internet service</td>\n",
              "      <td>No internet service</td>\n",
              "      <td>No internet service</td>\n",
              "      <td>No internet service</td>\n",
              "      <td>Two year</td>\n",
              "      <td>No</td>\n",
              "      <td>Mailed check</td>\n",
              "      <td>19.85</td>\n",
              "      <td>NaN</td>\n",
              "      <td>No</td>\n",
              "    </tr>\n",
              "    <tr>\n",
              "      <th>3826</th>\n",
              "      <td>Male</td>\n",
              "      <td>0</td>\n",
              "      <td>Yes</td>\n",
              "      <td>Yes</td>\n",
              "      <td>0</td>\n",
              "      <td>Yes</td>\n",
              "      <td>Yes</td>\n",
              "      <td>No</td>\n",
              "      <td>No internet service</td>\n",
              "      <td>No internet service</td>\n",
              "      <td>No internet service</td>\n",
              "      <td>No internet service</td>\n",
              "      <td>No internet service</td>\n",
              "      <td>No internet service</td>\n",
              "      <td>Two year</td>\n",
              "      <td>No</td>\n",
              "      <td>Mailed check</td>\n",
              "      <td>25.35</td>\n",
              "      <td>NaN</td>\n",
              "      <td>No</td>\n",
              "    </tr>\n",
              "    <tr>\n",
              "      <th>4380</th>\n",
              "      <td>Female</td>\n",
              "      <td>0</td>\n",
              "      <td>Yes</td>\n",
              "      <td>Yes</td>\n",
              "      <td>0</td>\n",
              "      <td>Yes</td>\n",
              "      <td>No</td>\n",
              "      <td>No</td>\n",
              "      <td>No internet service</td>\n",
              "      <td>No internet service</td>\n",
              "      <td>No internet service</td>\n",
              "      <td>No internet service</td>\n",
              "      <td>No internet service</td>\n",
              "      <td>No internet service</td>\n",
              "      <td>Two year</td>\n",
              "      <td>No</td>\n",
              "      <td>Mailed check</td>\n",
              "      <td>20.00</td>\n",
              "      <td>NaN</td>\n",
              "      <td>No</td>\n",
              "    </tr>\n",
              "    <tr>\n",
              "      <th>5218</th>\n",
              "      <td>Male</td>\n",
              "      <td>0</td>\n",
              "      <td>Yes</td>\n",
              "      <td>Yes</td>\n",
              "      <td>0</td>\n",
              "      <td>Yes</td>\n",
              "      <td>No</td>\n",
              "      <td>No</td>\n",
              "      <td>No internet service</td>\n",
              "      <td>No internet service</td>\n",
              "      <td>No internet service</td>\n",
              "      <td>No internet service</td>\n",
              "      <td>No internet service</td>\n",
              "      <td>No internet service</td>\n",
              "      <td>One year</td>\n",
              "      <td>Yes</td>\n",
              "      <td>Mailed check</td>\n",
              "      <td>19.70</td>\n",
              "      <td>NaN</td>\n",
              "      <td>No</td>\n",
              "    </tr>\n",
              "    <tr>\n",
              "      <th>6670</th>\n",
              "      <td>Female</td>\n",
              "      <td>0</td>\n",
              "      <td>Yes</td>\n",
              "      <td>Yes</td>\n",
              "      <td>0</td>\n",
              "      <td>Yes</td>\n",
              "      <td>Yes</td>\n",
              "      <td>DSL</td>\n",
              "      <td>No</td>\n",
              "      <td>Yes</td>\n",
              "      <td>Yes</td>\n",
              "      <td>Yes</td>\n",
              "      <td>Yes</td>\n",
              "      <td>No</td>\n",
              "      <td>Two year</td>\n",
              "      <td>No</td>\n",
              "      <td>Mailed check</td>\n",
              "      <td>73.35</td>\n",
              "      <td>NaN</td>\n",
              "      <td>No</td>\n",
              "    </tr>\n",
              "    <tr>\n",
              "      <th>6754</th>\n",
              "      <td>Male</td>\n",
              "      <td>0</td>\n",
              "      <td>No</td>\n",
              "      <td>Yes</td>\n",
              "      <td>0</td>\n",
              "      <td>Yes</td>\n",
              "      <td>Yes</td>\n",
              "      <td>DSL</td>\n",
              "      <td>Yes</td>\n",
              "      <td>Yes</td>\n",
              "      <td>No</td>\n",
              "      <td>Yes</td>\n",
              "      <td>No</td>\n",
              "      <td>No</td>\n",
              "      <td>Two year</td>\n",
              "      <td>Yes</td>\n",
              "      <td>Bank transfer (automatic)</td>\n",
              "      <td>61.90</td>\n",
              "      <td>NaN</td>\n",
              "      <td>No</td>\n",
              "    </tr>\n",
              "  </tbody>\n",
              "</table>\n",
              "</div>"
            ],
            "text/plain": [
              "      gender  SeniorCitizen Partner Dependents  tenure PhoneService  \\\n",
              "488   Female              0     Yes        Yes       0           No   \n",
              "753     Male              0      No        Yes       0          Yes   \n",
              "936   Female              0     Yes        Yes       0          Yes   \n",
              "1082    Male              0     Yes        Yes       0          Yes   \n",
              "1340  Female              0     Yes        Yes       0           No   \n",
              "3331    Male              0     Yes        Yes       0          Yes   \n",
              "3826    Male              0     Yes        Yes       0          Yes   \n",
              "4380  Female              0     Yes        Yes       0          Yes   \n",
              "5218    Male              0     Yes        Yes       0          Yes   \n",
              "6670  Female              0     Yes        Yes       0          Yes   \n",
              "6754    Male              0      No        Yes       0          Yes   \n",
              "\n",
              "         MultipleLines InternetService       OnlineSecurity  \\\n",
              "488   No phone service             DSL                  Yes   \n",
              "753                 No              No  No internet service   \n",
              "936                 No             DSL                  Yes   \n",
              "1082               Yes              No  No internet service   \n",
              "1340  No phone service             DSL                  Yes   \n",
              "3331                No              No  No internet service   \n",
              "3826               Yes              No  No internet service   \n",
              "4380                No              No  No internet service   \n",
              "5218                No              No  No internet service   \n",
              "6670               Yes             DSL                   No   \n",
              "6754               Yes             DSL                  Yes   \n",
              "\n",
              "             OnlineBackup     DeviceProtection          TechSupport  \\\n",
              "488                    No                  Yes                  Yes   \n",
              "753   No internet service  No internet service  No internet service   \n",
              "936                   Yes                  Yes                   No   \n",
              "1082  No internet service  No internet service  No internet service   \n",
              "1340                  Yes                  Yes                  Yes   \n",
              "3331  No internet service  No internet service  No internet service   \n",
              "3826  No internet service  No internet service  No internet service   \n",
              "4380  No internet service  No internet service  No internet service   \n",
              "5218  No internet service  No internet service  No internet service   \n",
              "6670                  Yes                  Yes                  Yes   \n",
              "6754                  Yes                   No                  Yes   \n",
              "\n",
              "              StreamingTV      StreamingMovies  Contract PaperlessBilling  \\\n",
              "488                   Yes                   No  Two year              Yes   \n",
              "753   No internet service  No internet service  Two year               No   \n",
              "936                   Yes                  Yes  Two year               No   \n",
              "1082  No internet service  No internet service  Two year               No   \n",
              "1340                  Yes                   No  Two year               No   \n",
              "3331  No internet service  No internet service  Two year               No   \n",
              "3826  No internet service  No internet service  Two year               No   \n",
              "4380  No internet service  No internet service  Two year               No   \n",
              "5218  No internet service  No internet service  One year              Yes   \n",
              "6670                  Yes                   No  Two year               No   \n",
              "6754                   No                   No  Two year              Yes   \n",
              "\n",
              "                  PaymentMethod  MonthlyCharges  TotalCharges Churn  \n",
              "488   Bank transfer (automatic)           52.55           NaN    No  \n",
              "753                Mailed check           20.25           NaN    No  \n",
              "936                Mailed check           80.85           NaN    No  \n",
              "1082               Mailed check           25.75           NaN    No  \n",
              "1340    Credit card (automatic)           56.05           NaN    No  \n",
              "3331               Mailed check           19.85           NaN    No  \n",
              "3826               Mailed check           25.35           NaN    No  \n",
              "4380               Mailed check           20.00           NaN    No  \n",
              "5218               Mailed check           19.70           NaN    No  \n",
              "6670               Mailed check           73.35           NaN    No  \n",
              "6754  Bank transfer (automatic)           61.90           NaN    No  "
            ]
          },
          "execution_count": 12,
          "metadata": {},
          "output_type": "execute_result"
        }
      ],
      "source": [
        "# Show rows that have problems in TotalCharges\n",
        "# Is there a relation with tenure column?\n",
        "df[np.isnan(df['TotalCharges'])]"
      ]
    },
    {
      "cell_type": "markdown",
      "id": "advanced-ability",
      "metadata": {
        "id": "advanced-ability",
        "papermill": {
          "duration": 0.095044,
          "end_time": "2021-06-29T09:02:54.478124",
          "exception": false,
          "start_time": "2021-06-29T09:02:54.383080",
          "status": "completed"
        },
        "tags": []
      },
      "source": [
        "* It can also be noted that the Tenure column is 0 for these entries even though the MonthlyCharges column is not empty.\n",
        "\n",
        "Let's see if there are any other 0 values in the tenure column."
      ]
    },
    {
      "cell_type": "code",
      "execution_count": 13,
      "id": "shaped-maximum",
      "metadata": {
        "colab": {
          "base_uri": "https://localhost:8080/"
        },
        "execution": {
          "iopub.execute_input": "2021-06-29T09:02:54.670466Z",
          "iopub.status.busy": "2021-06-29T09:02:54.669347Z",
          "iopub.status.idle": "2021-06-29T09:02:54.694571Z",
          "shell.execute_reply": "2021-06-29T09:02:54.693974Z",
          "shell.execute_reply.started": "2021-06-29T08:55:23.856114Z"
        },
        "id": "shaped-maximum",
        "outputId": "0946776c-9b69-4b30-ae35-8ffd2d125e11",
        "papermill": {
          "duration": 0.121839,
          "end_time": "2021-06-29T09:02:54.694721",
          "exception": false,
          "start_time": "2021-06-29T09:02:54.572882",
          "status": "completed"
        },
        "tags": []
      },
      "outputs": [
        {
          "data": {
            "text/plain": [
              "Index([488, 753, 936, 1082, 1340, 3331, 3826, 4380, 5218, 6670, 6754], dtype='int64')"
            ]
          },
          "execution_count": 13,
          "metadata": {},
          "output_type": "execute_result"
        }
      ],
      "source": [
        "# Find index of prblematic rows.\n",
        "df[df['tenure'] == 0].index"
      ]
    },
    {
      "cell_type": "markdown",
      "id": "young-shade",
      "metadata": {
        "id": "young-shade",
        "papermill": {
          "duration": 0.097417,
          "end_time": "2021-06-29T09:02:54.888407",
          "exception": false,
          "start_time": "2021-06-29T09:02:54.790990",
          "status": "completed"
        },
        "tags": []
      },
      "source": [
        "* There are no additional missing values in the Tenure column.\n",
        "\n",
        "Let's delete the rows with missing values in Tenure columns since there are only 11 rows and deleting them will not affect the data."
      ]
    },
    {
      "cell_type": "code",
      "execution_count": 14,
      "id": "surprised-powder",
      "metadata": {
        "colab": {
          "base_uri": "https://localhost:8080/"
        },
        "execution": {
          "iopub.execute_input": "2021-06-29T09:02:55.082177Z",
          "iopub.status.busy": "2021-06-29T09:02:55.081512Z",
          "iopub.status.idle": "2021-06-29T09:02:55.088169Z",
          "shell.execute_reply": "2021-06-29T09:02:55.088797Z",
          "shell.execute_reply.started": "2021-06-29T08:55:23.878972Z"
        },
        "id": "surprised-powder",
        "outputId": "27ac7bfc-2322-43b8-968c-e9ddc5367599",
        "papermill": {
          "duration": 0.107557,
          "end_time": "2021-06-29T09:02:55.089007",
          "exception": false,
          "start_time": "2021-06-29T09:02:54.981450",
          "status": "completed"
        },
        "tags": []
      },
      "outputs": [
        {
          "data": {
            "text/plain": [
              "Index([], dtype='int64')"
            ]
          },
          "execution_count": 14,
          "metadata": {},
          "output_type": "execute_result"
        }
      ],
      "source": [
        "# remove problematic rows\n",
        "df.drop(labels=df[df['tenure'] == 0].index, axis=0, inplace=True)\n",
        "df[df['tenure'] == 0].index"
      ]
    },
    {
      "cell_type": "code",
      "execution_count": 15,
      "id": "solved-shipping",
      "metadata": {
        "colab": {
          "base_uri": "https://localhost:8080/",
          "height": 711
        },
        "execution": {
          "iopub.execute_input": "2021-06-29T09:02:55.719453Z",
          "iopub.status.busy": "2021-06-29T09:02:55.718770Z",
          "iopub.status.idle": "2021-06-29T09:02:55.726883Z",
          "shell.execute_reply": "2021-06-29T09:02:55.726285Z",
          "shell.execute_reply.started": "2021-06-29T08:55:23.945218Z"
        },
        "id": "solved-shipping",
        "outputId": "13938db3-62b7-467e-8719-10a2245ff9f4",
        "papermill": {
          "duration": 0.117474,
          "end_time": "2021-06-29T09:02:55.727035",
          "exception": false,
          "start_time": "2021-06-29T09:02:55.609561",
          "status": "completed"
        },
        "tags": []
      },
      "outputs": [
        {
          "data": {
            "text/plain": [
              "gender              0\n",
              "SeniorCitizen       0\n",
              "Partner             0\n",
              "Dependents          0\n",
              "tenure              0\n",
              "PhoneService        0\n",
              "MultipleLines       0\n",
              "InternetService     0\n",
              "OnlineSecurity      0\n",
              "OnlineBackup        0\n",
              "DeviceProtection    0\n",
              "TechSupport         0\n",
              "StreamingTV         0\n",
              "StreamingMovies     0\n",
              "Contract            0\n",
              "PaperlessBilling    0\n",
              "PaymentMethod       0\n",
              "MonthlyCharges      0\n",
              "TotalCharges        0\n",
              "Churn               0\n",
              "dtype: int64"
            ]
          },
          "execution_count": 15,
          "metadata": {},
          "output_type": "execute_result"
        }
      ],
      "source": [
        "df.isnull().sum()"
      ]
    },
    {
      "cell_type": "code",
      "execution_count": 16,
      "id": "legal-vatican",
      "metadata": {
        "colab": {
          "base_uri": "https://localhost:8080/",
          "height": 296
        },
        "execution": {
          "iopub.execute_input": "2021-06-29T09:02:55.921449Z",
          "iopub.status.busy": "2021-06-29T09:02:55.920756Z",
          "iopub.status.idle": "2021-06-29T09:02:55.948271Z",
          "shell.execute_reply": "2021-06-29T09:02:55.948753Z",
          "shell.execute_reply.started": "2021-06-29T08:55:23.966777Z"
        },
        "id": "legal-vatican",
        "outputId": "39ecaa69-cc6a-455e-ca6c-e0abed7f69b7",
        "papermill": {
          "duration": 0.126324,
          "end_time": "2021-06-29T09:02:55.948927",
          "exception": false,
          "start_time": "2021-06-29T09:02:55.822603",
          "status": "completed"
        },
        "tags": []
      },
      "outputs": [
        {
          "data": {
            "text/html": [
              "<div>\n",
              "<style scoped>\n",
              "    .dataframe tbody tr th:only-of-type {\n",
              "        vertical-align: middle;\n",
              "    }\n",
              "\n",
              "    .dataframe tbody tr th {\n",
              "        vertical-align: top;\n",
              "    }\n",
              "\n",
              "    .dataframe thead th {\n",
              "        text-align: right;\n",
              "    }\n",
              "</style>\n",
              "<table border=\"1\" class=\"dataframe\">\n",
              "  <thead>\n",
              "    <tr style=\"text-align: right;\">\n",
              "      <th></th>\n",
              "      <th>gender</th>\n",
              "      <th>SeniorCitizen</th>\n",
              "      <th>Partner</th>\n",
              "      <th>Dependents</th>\n",
              "      <th>tenure</th>\n",
              "      <th>PhoneService</th>\n",
              "      <th>MultipleLines</th>\n",
              "      <th>InternetService</th>\n",
              "      <th>OnlineSecurity</th>\n",
              "      <th>OnlineBackup</th>\n",
              "      <th>DeviceProtection</th>\n",
              "      <th>TechSupport</th>\n",
              "      <th>StreamingTV</th>\n",
              "      <th>StreamingMovies</th>\n",
              "      <th>Contract</th>\n",
              "      <th>PaperlessBilling</th>\n",
              "      <th>PaymentMethod</th>\n",
              "      <th>MonthlyCharges</th>\n",
              "      <th>TotalCharges</th>\n",
              "      <th>Churn</th>\n",
              "    </tr>\n",
              "  </thead>\n",
              "  <tbody>\n",
              "    <tr>\n",
              "      <th>0</th>\n",
              "      <td>Female</td>\n",
              "      <td>No</td>\n",
              "      <td>Yes</td>\n",
              "      <td>No</td>\n",
              "      <td>1</td>\n",
              "      <td>No</td>\n",
              "      <td>No phone service</td>\n",
              "      <td>DSL</td>\n",
              "      <td>No</td>\n",
              "      <td>Yes</td>\n",
              "      <td>No</td>\n",
              "      <td>No</td>\n",
              "      <td>No</td>\n",
              "      <td>No</td>\n",
              "      <td>Month-to-month</td>\n",
              "      <td>Yes</td>\n",
              "      <td>Electronic check</td>\n",
              "      <td>29.85</td>\n",
              "      <td>29.85</td>\n",
              "      <td>No</td>\n",
              "    </tr>\n",
              "    <tr>\n",
              "      <th>1</th>\n",
              "      <td>Male</td>\n",
              "      <td>No</td>\n",
              "      <td>No</td>\n",
              "      <td>No</td>\n",
              "      <td>34</td>\n",
              "      <td>Yes</td>\n",
              "      <td>No</td>\n",
              "      <td>DSL</td>\n",
              "      <td>Yes</td>\n",
              "      <td>No</td>\n",
              "      <td>Yes</td>\n",
              "      <td>No</td>\n",
              "      <td>No</td>\n",
              "      <td>No</td>\n",
              "      <td>One year</td>\n",
              "      <td>No</td>\n",
              "      <td>Mailed check</td>\n",
              "      <td>56.95</td>\n",
              "      <td>1889.50</td>\n",
              "      <td>No</td>\n",
              "    </tr>\n",
              "    <tr>\n",
              "      <th>2</th>\n",
              "      <td>Male</td>\n",
              "      <td>No</td>\n",
              "      <td>No</td>\n",
              "      <td>No</td>\n",
              "      <td>2</td>\n",
              "      <td>Yes</td>\n",
              "      <td>No</td>\n",
              "      <td>DSL</td>\n",
              "      <td>Yes</td>\n",
              "      <td>Yes</td>\n",
              "      <td>No</td>\n",
              "      <td>No</td>\n",
              "      <td>No</td>\n",
              "      <td>No</td>\n",
              "      <td>Month-to-month</td>\n",
              "      <td>Yes</td>\n",
              "      <td>Mailed check</td>\n",
              "      <td>53.85</td>\n",
              "      <td>108.15</td>\n",
              "      <td>Yes</td>\n",
              "    </tr>\n",
              "    <tr>\n",
              "      <th>3</th>\n",
              "      <td>Male</td>\n",
              "      <td>No</td>\n",
              "      <td>No</td>\n",
              "      <td>No</td>\n",
              "      <td>45</td>\n",
              "      <td>No</td>\n",
              "      <td>No phone service</td>\n",
              "      <td>DSL</td>\n",
              "      <td>Yes</td>\n",
              "      <td>No</td>\n",
              "      <td>Yes</td>\n",
              "      <td>Yes</td>\n",
              "      <td>No</td>\n",
              "      <td>No</td>\n",
              "      <td>One year</td>\n",
              "      <td>No</td>\n",
              "      <td>Bank transfer (automatic)</td>\n",
              "      <td>42.30</td>\n",
              "      <td>1840.75</td>\n",
              "      <td>No</td>\n",
              "    </tr>\n",
              "    <tr>\n",
              "      <th>4</th>\n",
              "      <td>Female</td>\n",
              "      <td>No</td>\n",
              "      <td>No</td>\n",
              "      <td>No</td>\n",
              "      <td>2</td>\n",
              "      <td>Yes</td>\n",
              "      <td>No</td>\n",
              "      <td>Fiber optic</td>\n",
              "      <td>No</td>\n",
              "      <td>No</td>\n",
              "      <td>No</td>\n",
              "      <td>No</td>\n",
              "      <td>No</td>\n",
              "      <td>No</td>\n",
              "      <td>Month-to-month</td>\n",
              "      <td>Yes</td>\n",
              "      <td>Electronic check</td>\n",
              "      <td>70.70</td>\n",
              "      <td>151.65</td>\n",
              "      <td>Yes</td>\n",
              "    </tr>\n",
              "  </tbody>\n",
              "</table>\n",
              "</div>"
            ],
            "text/plain": [
              "   gender SeniorCitizen Partner Dependents  tenure PhoneService  \\\n",
              "0  Female            No     Yes         No       1           No   \n",
              "1    Male            No      No         No      34          Yes   \n",
              "2    Male            No      No         No       2          Yes   \n",
              "3    Male            No      No         No      45           No   \n",
              "4  Female            No      No         No       2          Yes   \n",
              "\n",
              "      MultipleLines InternetService OnlineSecurity OnlineBackup  \\\n",
              "0  No phone service             DSL             No          Yes   \n",
              "1                No             DSL            Yes           No   \n",
              "2                No             DSL            Yes          Yes   \n",
              "3  No phone service             DSL            Yes           No   \n",
              "4                No     Fiber optic             No           No   \n",
              "\n",
              "  DeviceProtection TechSupport StreamingTV StreamingMovies        Contract  \\\n",
              "0               No          No          No              No  Month-to-month   \n",
              "1              Yes          No          No              No        One year   \n",
              "2               No          No          No              No  Month-to-month   \n",
              "3              Yes         Yes          No              No        One year   \n",
              "4               No          No          No              No  Month-to-month   \n",
              "\n",
              "  PaperlessBilling              PaymentMethod  MonthlyCharges  TotalCharges  \\\n",
              "0              Yes           Electronic check           29.85         29.85   \n",
              "1               No               Mailed check           56.95       1889.50   \n",
              "2              Yes               Mailed check           53.85        108.15   \n",
              "3               No  Bank transfer (automatic)           42.30       1840.75   \n",
              "4              Yes           Electronic check           70.70        151.65   \n",
              "\n",
              "  Churn  \n",
              "0    No  \n",
              "1    No  \n",
              "2   Yes  \n",
              "3    No  \n",
              "4   Yes  "
            ]
          },
          "execution_count": 16,
          "metadata": {},
          "output_type": "execute_result"
        }
      ],
      "source": [
        "# Map SeniorCitizen Column 0 to \"No\" and 1 to \"Yes\"\n",
        "df[\"SeniorCitizen\"]= df[\"SeniorCitizen\"].map({0: \"No\", 1: \"Yes\"})\n",
        "df.head()"
      ]
    },
    {
      "cell_type": "code",
      "execution_count": 17,
      "id": "wooden-sodium",
      "metadata": {
        "execution": {
          "iopub.execute_input": "2021-06-29T09:02:56.354292Z",
          "iopub.status.busy": "2021-06-29T09:02:56.353601Z",
          "iopub.status.idle": "2021-06-29T09:02:56.377785Z",
          "shell.execute_reply": "2021-06-29T09:02:56.377165Z",
          "shell.execute_reply.started": "2021-06-29T08:55:24.014572Z"
        },
        "id": "wooden-sodium",
        "papermill": {
          "duration": 0.125674,
          "end_time": "2021-06-29T09:02:56.377929",
          "exception": false,
          "start_time": "2021-06-29T09:02:56.252255",
          "status": "completed"
        },
        "tags": []
      },
      "outputs": [
        {
          "data": {
            "text/html": [
              "<div>\n",
              "<style scoped>\n",
              "    .dataframe tbody tr th:only-of-type {\n",
              "        vertical-align: middle;\n",
              "    }\n",
              "\n",
              "    .dataframe tbody tr th {\n",
              "        vertical-align: top;\n",
              "    }\n",
              "\n",
              "    .dataframe thead th {\n",
              "        text-align: right;\n",
              "    }\n",
              "</style>\n",
              "<table border=\"1\" class=\"dataframe\">\n",
              "  <thead>\n",
              "    <tr style=\"text-align: right;\">\n",
              "      <th></th>\n",
              "      <th>tenure</th>\n",
              "      <th>MonthlyCharges</th>\n",
              "      <th>TotalCharges</th>\n",
              "    </tr>\n",
              "  </thead>\n",
              "  <tbody>\n",
              "    <tr>\n",
              "      <th>count</th>\n",
              "      <td>7032.000000</td>\n",
              "      <td>7032.000000</td>\n",
              "      <td>7032.000000</td>\n",
              "    </tr>\n",
              "    <tr>\n",
              "      <th>mean</th>\n",
              "      <td>32.421786</td>\n",
              "      <td>64.798208</td>\n",
              "      <td>2283.300441</td>\n",
              "    </tr>\n",
              "    <tr>\n",
              "      <th>std</th>\n",
              "      <td>24.545260</td>\n",
              "      <td>30.085974</td>\n",
              "      <td>2266.771362</td>\n",
              "    </tr>\n",
              "    <tr>\n",
              "      <th>min</th>\n",
              "      <td>1.000000</td>\n",
              "      <td>18.250000</td>\n",
              "      <td>18.800000</td>\n",
              "    </tr>\n",
              "    <tr>\n",
              "      <th>25%</th>\n",
              "      <td>9.000000</td>\n",
              "      <td>35.587500</td>\n",
              "      <td>401.450000</td>\n",
              "    </tr>\n",
              "    <tr>\n",
              "      <th>50%</th>\n",
              "      <td>29.000000</td>\n",
              "      <td>70.350000</td>\n",
              "      <td>1397.475000</td>\n",
              "    </tr>\n",
              "    <tr>\n",
              "      <th>75%</th>\n",
              "      <td>55.000000</td>\n",
              "      <td>89.862500</td>\n",
              "      <td>3794.737500</td>\n",
              "    </tr>\n",
              "    <tr>\n",
              "      <th>max</th>\n",
              "      <td>72.000000</td>\n",
              "      <td>118.750000</td>\n",
              "      <td>8684.800000</td>\n",
              "    </tr>\n",
              "  </tbody>\n",
              "</table>\n",
              "</div>"
            ],
            "text/plain": [
              "            tenure  MonthlyCharges  TotalCharges\n",
              "count  7032.000000     7032.000000   7032.000000\n",
              "mean     32.421786       64.798208   2283.300441\n",
              "std      24.545260       30.085974   2266.771362\n",
              "min       1.000000       18.250000     18.800000\n",
              "25%       9.000000       35.587500    401.450000\n",
              "50%      29.000000       70.350000   1397.475000\n",
              "75%      55.000000       89.862500   3794.737500\n",
              "max      72.000000      118.750000   8684.800000"
            ]
          },
          "execution_count": 17,
          "metadata": {},
          "output_type": "execute_result"
        }
      ],
      "source": [
        "# Describe statistics of numerical columns\n",
        "# Numerical columns are ['tenure', 'MonthlyCharges', 'TotalCharges']\n",
        "df[['tenure','MonthlyCharges','TotalCharges']].describe()"
      ]
    },
    {
      "cell_type": "markdown",
      "id": "injured-clothing",
      "metadata": {
        "id": "injured-clothing",
        "papermill": {
          "duration": 0.098013,
          "end_time": "2021-06-29T09:02:56.572191",
          "exception": false,
          "start_time": "2021-06-29T09:02:56.474178",
          "status": "completed"
        },
        "tags": []
      },
      "source": [
        "___"
      ]
    },
    {
      "cell_type": "markdown",
      "id": "orange-juvenile",
      "metadata": {
        "id": "orange-juvenile",
        "papermill": {
          "duration": 0.097998,
          "end_time": "2021-06-29T09:02:56.771176",
          "exception": false,
          "start_time": "2021-06-29T09:02:56.673178",
          "status": "completed"
        },
        "tags": []
      },
      "source": [
        "<a id = \"9\" ></a>\n",
        "# <span style=\"font-family:serif; font-size:28px;\"> 6. Data Visualization </span>\n",
        "<a id = \"datavisualization\" ></a>"
      ]
    },
    {
      "cell_type": "code",
      "execution_count": 18,
      "id": "fc0b7ae9",
      "metadata": {},
      "outputs": [
        {
          "data": {
            "text/plain": [
              "0        No\n",
              "1        No\n",
              "2       Yes\n",
              "3        No\n",
              "4       Yes\n",
              "       ... \n",
              "7038     No\n",
              "7039     No\n",
              "7040     No\n",
              "7041    Yes\n",
              "7042     No\n",
              "Name: Churn, Length: 7032, dtype: object"
            ]
          },
          "execution_count": 18,
          "metadata": {},
          "output_type": "execute_result"
        }
      ],
      "source": [
        "df['Churn']"
      ]
    },
    {
      "cell_type": "code",
      "execution_count": 19,
      "id": "returning-assistant",
      "metadata": {
        "_kg_hide-input": true,
        "execution": {
          "iopub.execute_input": "2021-06-29T09:02:56.979303Z",
          "iopub.status.busy": "2021-06-29T09:02:56.978643Z",
          "iopub.status.idle": "2021-06-29T09:02:57.259261Z",
          "shell.execute_reply": "2021-06-29T09:02:57.258622Z",
          "shell.execute_reply.started": "2021-06-29T08:55:24.050806Z"
        },
        "id": "returning-assistant",
        "papermill": {
          "duration": 0.388578,
          "end_time": "2021-06-29T09:02:57.259418",
          "exception": false,
          "start_time": "2021-06-29T09:02:56.870840",
          "status": "completed"
        },
        "tags": []
      },
      "outputs": [
        {
          "data": {
            "text/plain": [
              "<Axes: xlabel='Churn', ylabel='gender'>"
            ]
          },
          "execution_count": 19,
          "metadata": {},
          "output_type": "execute_result"
        },
        {
          "data": {
            "image/png": "[encoded data removed]",
            "text/plain": [
              "<Figure size 640x480 with 1 Axes>"
            ]
          },
          "metadata": {},
          "output_type": "display_data"
        }
      ],
      "source": [
        "# Is there any relation between churn and gender?\n",
        "sns.boxplot(x='Churn', y='gender', data=df)"
      ]
    },
    {
      "cell_type": "markdown",
      "id": "interracial-chosen",
      "metadata": {
        "id": "interracial-chosen",
        "papermill": {
          "duration": 0.099178,
          "end_time": "2021-06-29T09:02:58.546843",
          "exception": false,
          "start_time": "2021-06-29T09:02:58.447665",
          "status": "completed"
        },
        "tags": []
      },
      "source": [
        "* There is negligible difference in customer percentage/ count who chnaged the service provider. Both genders behaved in similar fashion when it comes to migrating to another service provider/firm."
      ]
    },
    {
      "cell_type": "code",
      "execution_count": 20,
      "id": "44ee161b",
      "metadata": {},
      "outputs": [
        {
          "data": {
            "text/plain": [
              "0       Month-to-month\n",
              "1             One year\n",
              "2       Month-to-month\n",
              "3             One year\n",
              "4       Month-to-month\n",
              "             ...      \n",
              "7038          One year\n",
              "7039          One year\n",
              "7040    Month-to-month\n",
              "7041    Month-to-month\n",
              "7042          Two year\n",
              "Name: Contract, Length: 7032, dtype: object"
            ]
          },
          "execution_count": 20,
          "metadata": {},
          "output_type": "execute_result"
        }
      ],
      "source": [
        "df['Contract']"
      ]
    },
    {
      "cell_type": "code",
      "execution_count": 21,
      "id": "passive-copper",
      "metadata": {
        "_kg_hide-input": true,
        "execution": {
          "iopub.execute_input": "2021-06-29T09:02:58.751125Z",
          "iopub.status.busy": "2021-06-29T09:02:58.750500Z",
          "iopub.status.idle": "2021-06-29T09:02:59.733499Z",
          "shell.execute_reply": "2021-06-29T09:02:59.734038Z",
          "shell.execute_reply.started": "2021-06-29T08:55:24.589768Z"
        },
        "id": "passive-copper",
        "papermill": {
          "duration": 1.087006,
          "end_time": "2021-06-29T09:02:59.734205",
          "exception": false,
          "start_time": "2021-06-29T09:02:58.647199",
          "status": "completed"
        },
        "tags": []
      },
      "outputs": [
        {
          "data": {
            "text/html": [
              "<div>\n",
              "<style scoped>\n",
              "    .dataframe tbody tr th:only-of-type {\n",
              "        vertical-align: middle;\n",
              "    }\n",
              "\n",
              "    .dataframe tbody tr th {\n",
              "        vertical-align: top;\n",
              "    }\n",
              "\n",
              "    .dataframe thead th {\n",
              "        text-align: right;\n",
              "    }\n",
              "</style>\n",
              "<table border=\"1\" class=\"dataframe\">\n",
              "  <thead>\n",
              "    <tr style=\"text-align: right;\">\n",
              "      <th>Churn</th>\n",
              "      <th>No</th>\n",
              "      <th>Yes</th>\n",
              "    </tr>\n",
              "    <tr>\n",
              "      <th>Contract</th>\n",
              "      <th></th>\n",
              "      <th></th>\n",
              "    </tr>\n",
              "  </thead>\n",
              "  <tbody>\n",
              "    <tr>\n",
              "      <th>Month-to-month</th>\n",
              "      <td>2220</td>\n",
              "      <td>1655</td>\n",
              "    </tr>\n",
              "    <tr>\n",
              "      <th>One year</th>\n",
              "      <td>1306</td>\n",
              "      <td>166</td>\n",
              "    </tr>\n",
              "    <tr>\n",
              "      <th>Two year</th>\n",
              "      <td>1637</td>\n",
              "      <td>48</td>\n",
              "    </tr>\n",
              "  </tbody>\n",
              "</table>\n",
              "</div>"
            ],
            "text/plain": [
              "Churn             No   Yes\n",
              "Contract                  \n",
              "Month-to-month  2220  1655\n",
              "One year        1306   166\n",
              "Two year        1637    48"
            ]
          },
          "execution_count": 21,
          "metadata": {},
          "output_type": "execute_result"
        }
      ],
      "source": [
        "# Is there a relation between Contract and Churn?\n",
        "pd.crosstab(df['Contract'], df['Churn'])"
      ]
    },
    {
      "cell_type": "code",
      "execution_count": 22,
      "id": "cdc3914d",
      "metadata": {},
      "outputs": [
        {
          "data": {
            "text/plain": [
              "<Axes: xlabel='Churn', ylabel='Contract'>"
            ]
          },
          "execution_count": 22,
          "metadata": {},
          "output_type": "execute_result"
        },
        {
          "data": {
            "image/png": "[encoded data removed]",
            "text/plain": [
              "<Figure size 640x480 with 2 Axes>"
            ]
          },
          "metadata": {},
          "output_type": "display_data"
        }
      ],
      "source": [
        "sns.heatmap(pd.crosstab(df['Contract'], df['Churn']), annot=True, fmt=\"d\", cmap=\"Blues\")"
      ]
    },
    {
      "cell_type": "markdown",
      "id": "seeing-timber",
      "metadata": {
        "id": "seeing-timber",
        "papermill": {
          "duration": 0.104681,
          "end_time": "2021-06-29T09:02:59.944243",
          "exception": false,
          "start_time": "2021-06-29T09:02:59.839562",
          "status": "completed"
        },
        "tags": []
      },
      "source": [
        "* About 75% of customer with Month-to-Month Contract opted to move out as compared to 13% of customrs with One Year Contract and 3% with Two Year Contract"
      ]
    },
    {
      "cell_type": "code",
      "execution_count": 23,
      "id": "governing-makeup",
      "metadata": {
        "_kg_hide-input": true,
        "execution": {
          "iopub.execute_input": "2021-06-29T09:03:00.158612Z",
          "iopub.status.busy": "2021-06-29T09:03:00.157604Z",
          "iopub.status.idle": "2021-06-29T09:03:00.172275Z",
          "shell.execute_reply": "2021-06-29T09:03:00.171759Z",
          "shell.execute_reply.started": "2021-06-29T08:55:25.677594Z"
        },
        "id": "governing-makeup",
        "papermill": {
          "duration": 0.124947,
          "end_time": "2021-06-29T09:03:00.172448",
          "exception": false,
          "start_time": "2021-06-29T09:03:00.047501",
          "status": "completed"
        },
        "tags": []
      },
      "outputs": [
        {
          "data": {
            "text/plain": [
              "<Axes: xlabel='Churn', ylabel='PaymentMethod'>"
            ]
          },
          "execution_count": 23,
          "metadata": {},
          "output_type": "execute_result"
        },
        {
          "data": {
            "image/png": "[encoded data removed]",
            "text/plain": [
              "<Figure size 640x480 with 2 Axes>"
            ]
          },
          "metadata": {},
          "output_type": "display_data"
        }
      ],
      "source": [
        "# Is there relation between Payment Method and Churn?\n",
        "sns.heatmap(pd.crosstab(df['PaymentMethod'], df['Churn']), annot=True, fmt=\"d\", cmap=\"Blues\")"
      ]
    },
    {
      "cell_type": "markdown",
      "id": "prospective-trainer",
      "metadata": {
        "id": "prospective-trainer",
        "papermill": {
          "duration": 0.103796,
          "end_time": "2021-06-29T09:03:00.857810",
          "exception": false,
          "start_time": "2021-06-29T09:03:00.754014",
          "status": "completed"
        },
        "tags": []
      },
      "source": [
        "* Major customers who moved out were having Electronic Check as Payment Method.\n",
        "* Customers who opted for Credit-Card automatic transfer or Bank Automatic Transfer and Mailed Check as Payment Method were less likely to move out.  "
      ]
    },
    {
      "cell_type": "code",
      "execution_count": 24,
      "id": "charming-hollywood",
      "metadata": {
        "_kg_hide-input": true,
        "_kg_hide-output": true,
        "execution": {
          "iopub.execute_input": "2021-06-29T09:03:01.074572Z",
          "iopub.status.busy": "2021-06-29T09:03:01.073670Z",
          "iopub.status.idle": "2021-06-29T09:03:01.077953Z",
          "shell.execute_reply": "2021-06-29T09:03:01.077349Z",
          "shell.execute_reply.started": "2021-06-29T08:55:25.831685Z"
        },
        "id": "charming-hollywood",
        "papermill": {
          "duration": 0.11552,
          "end_time": "2021-06-29T09:03:01.078085",
          "exception": false,
          "start_time": "2021-06-29T09:03:00.962565",
          "status": "completed"
        },
        "tags": []
      },
      "outputs": [
        {
          "data": {
            "text/plain": [
              "<Axes: xlabel='Churn', ylabel='InternetService'>"
            ]
          },
          "execution_count": 24,
          "metadata": {},
          "output_type": "execute_result"
        },
        {
          "data": {
            "image/png": "[encoded data removed]",
            "text/plain": [
              "<Figure size 640x480 with 2 Axes>"
            ]
          },
          "metadata": {},
          "output_type": "display_data"
        }
      ],
      "source": [
        "# Is there relation between internet service and churn?\n",
        "sns.heatmap(pd.crosstab(df['InternetService'], df['Churn']), annot=True, fmt=\"d\", cmap=\"Blues\")"
      ]
    },
    {
      "cell_type": "markdown",
      "id": "according-phone",
      "metadata": {
        "id": "according-phone",
        "papermill": {
          "duration": 0.106422,
          "end_time": "2021-06-29T09:03:01.989222",
          "exception": false,
          "start_time": "2021-06-29T09:03:01.882800",
          "status": "completed"
        },
        "tags": []
      },
      "source": [
        "* A lot of customers choose the Fiber optic service and it's also evident that the customers who use Fiber optic have high churn rate, this might suggest a dissatisfaction with this type of internet service.\n",
        "* Customers having DSL service are majority in number and have less churn rate compared to Fibre optic service."
      ]
    },
    {
      "cell_type": "code",
      "execution_count": 25,
      "id": "descending-hours",
      "metadata": {
        "_kg_hide-input": true,
        "execution": {
          "iopub.execute_input": "2021-06-29T09:03:02.229398Z",
          "iopub.status.busy": "2021-06-29T09:03:02.228657Z",
          "iopub.status.idle": "2021-06-29T09:03:02.334854Z",
          "shell.execute_reply": "2021-06-29T09:03:02.335670Z",
          "shell.execute_reply.started": "2021-06-29T08:55:25.907958Z"
        },
        "id": "descending-hours",
        "papermill": {
          "duration": 0.239338,
          "end_time": "2021-06-29T09:03:02.335885",
          "exception": false,
          "start_time": "2021-06-29T09:03:02.096547",
          "status": "completed"
        },
        "tags": []
      },
      "outputs": [
        {
          "data": {
            "text/plain": [
              "<Axes: xlabel='Churn', ylabel='Dependents'>"
            ]
          },
          "execution_count": 25,
          "metadata": {},
          "output_type": "execute_result"
        },
        {
          "data": {
            "image/png": "[encoded data removed]",
            "text/plain": [
              "<Figure size 640x480 with 2 Axes>"
            ]
          },
          "metadata": {},
          "output_type": "display_data"
        }
      ],
      "source": [
        "# Is there a relation between Dependants and Churn?\n",
        "sns.heatmap(pd.crosstab(df['Dependents'], df['Churn']), annot=True, fmt=\"d\", cmap=\"Blues\")"
      ]
    },
    {
      "cell_type": "markdown",
      "id": "protective-president",
      "metadata": {
        "id": "protective-president",
        "papermill": {
          "duration": 0.108012,
          "end_time": "2021-06-29T09:03:02.553160",
          "exception": false,
          "start_time": "2021-06-29T09:03:02.445148",
          "status": "completed"
        },
        "tags": []
      },
      "source": [
        "* Customers without dependents are more likely to churn"
      ]
    },
    {
      "cell_type": "code",
      "execution_count": 26,
      "id": "metropolitan-carpet",
      "metadata": {
        "_kg_hide-input": true,
        "execution": {
          "iopub.execute_input": "2021-06-29T09:03:02.775190Z",
          "iopub.status.busy": "2021-06-29T09:03:02.774502Z",
          "iopub.status.idle": "2021-06-29T09:03:02.898296Z",
          "shell.execute_reply": "2021-06-29T09:03:02.898816Z",
          "shell.execute_reply.started": "2021-06-29T08:55:26.033511Z"
        },
        "id": "metropolitan-carpet",
        "papermill": {
          "duration": 0.236337,
          "end_time": "2021-06-29T09:03:02.899000",
          "exception": false,
          "start_time": "2021-06-29T09:03:02.662663",
          "status": "completed"
        },
        "tags": []
      },
      "outputs": [
        {
          "data": {
            "text/plain": [
              "<Axes: xlabel='Churn', ylabel='Partner'>"
            ]
          },
          "execution_count": 26,
          "metadata": {},
          "output_type": "execute_result"
        },
        {
          "data": {
            "image/png": "[encoded data removed]",
            "text/plain": [
              "<Figure size 640x480 with 2 Axes>"
            ]
          },
          "metadata": {},
          "output_type": "display_data"
        }
      ],
      "source": [
        "# Is there a relation between having partner and churn?\n",
        "sns.heatmap(pd.crosstab(df['Partner'], df['Churn']), annot=True, fmt=\"d\", cmap=\"Blues\")"
      ]
    },
    {
      "cell_type": "markdown",
      "id": "fleet-perry",
      "metadata": {
        "id": "fleet-perry",
        "papermill": {
          "duration": 0.111991,
          "end_time": "2021-06-29T09:03:03.123215",
          "exception": false,
          "start_time": "2021-06-29T09:03:03.011224",
          "status": "completed"
        },
        "tags": []
      },
      "source": [
        "* Customers that doesn't have partners are more likely to churn"
      ]
    },
    {
      "cell_type": "code",
      "execution_count": 27,
      "id": "silent-institution",
      "metadata": {
        "_kg_hide-input": true,
        "execution": {
          "iopub.execute_input": "2021-06-29T09:03:03.370414Z",
          "iopub.status.busy": "2021-06-29T09:03:03.351442Z",
          "iopub.status.idle": "2021-06-29T09:03:03.480588Z",
          "shell.execute_reply": "2021-06-29T09:03:03.479873Z",
          "shell.execute_reply.started": "2021-06-29T08:55:26.154794Z"
        },
        "id": "silent-institution",
        "papermill": {
          "duration": 0.246169,
          "end_time": "2021-06-29T09:03:03.480751",
          "exception": false,
          "start_time": "2021-06-29T09:03:03.234582",
          "status": "completed"
        },
        "tags": []
      },
      "outputs": [
        {
          "data": {
            "text/plain": [
              "<Axes: xlabel='Churn', ylabel='SeniorCitizen'>"
            ]
          },
          "execution_count": 27,
          "metadata": {},
          "output_type": "execute_result"
        },
        {
          "data": {
            "image/png": "[encoded data removed]",
            "text/plain": [
              "<Figure size 640x480 with 2 Axes>"
            ]
          },
          "metadata": {},
          "output_type": "display_data"
        }
      ],
      "source": [
        "# Is there relation between churn and senior citizen\n",
        "sns.heatmap(pd.crosstab(df['SeniorCitizen'], df['Churn']), annot=True, fmt=\"d\", cmap=\"Blues\")"
      ]
    },
    {
      "cell_type": "markdown",
      "id": "tamil-pathology",
      "metadata": {
        "id": "tamil-pathology",
        "papermill": {
          "duration": 0.112969,
          "end_time": "2021-06-29T09:03:03.708693",
          "exception": false,
          "start_time": "2021-06-29T09:03:03.595724",
          "status": "completed"
        },
        "tags": []
      },
      "source": [
        "* It can be observed that the fraction of senior citizen is very less.\n",
        "* Most of the senior citizens churn."
      ]
    },
    {
      "cell_type": "code",
      "execution_count": 28,
      "id": "assisted-capability",
      "metadata": {
        "_kg_hide-input": true,
        "execution": {
          "iopub.execute_input": "2021-06-29T09:03:03.958534Z",
          "iopub.status.busy": "2021-06-29T09:03:03.957728Z",
          "iopub.status.idle": "2021-06-29T09:03:04.066272Z",
          "shell.execute_reply": "2021-06-29T09:03:04.066782Z",
          "shell.execute_reply.started": "2021-06-29T08:55:26.275667Z"
        },
        "id": "assisted-capability",
        "papermill": {
          "duration": 0.243914,
          "end_time": "2021-06-29T09:03:04.066952",
          "exception": false,
          "start_time": "2021-06-29T09:03:03.823038",
          "status": "completed"
        },
        "tags": []
      },
      "outputs": [
        {
          "data": {
            "text/plain": [
              "<Axes: xlabel='Churn', ylabel='OnlineSecurity'>"
            ]
          },
          "execution_count": 28,
          "metadata": {},
          "output_type": "execute_result"
        },
        {
          "data": {
            "image/png": "[encoded data removed]",
            "text/plain": [
              "<Figure size 640x480 with 2 Axes>"
            ]
          },
          "metadata": {},
          "output_type": "display_data"
        }
      ],
      "source": [
        "# Is there any relation between churn and security?\n",
        "sns.heatmap(pd.crosstab(df['OnlineSecurity'], df['Churn']), annot=True, fmt=\"d\", cmap=\"Blues\")"
      ]
    },
    {
      "cell_type": "markdown",
      "id": "quick-blank",
      "metadata": {
        "id": "quick-blank",
        "papermill": {
          "duration": 0.115069,
          "end_time": "2021-06-29T09:03:04.296837",
          "exception": false,
          "start_time": "2021-06-29T09:03:04.181768",
          "status": "completed"
        },
        "tags": []
      },
      "source": [
        "* Most customers churn in the absence of online security,"
      ]
    },
    {
      "cell_type": "code",
      "execution_count": 29,
      "id": "adverse-ultimate",
      "metadata": {
        "_kg_hide-input": true,
        "execution": {
          "iopub.execute_input": "2021-06-29T09:03:04.532069Z",
          "iopub.status.busy": "2021-06-29T09:03:04.531386Z",
          "iopub.status.idle": "2021-06-29T09:03:04.652604Z",
          "shell.execute_reply": "2021-06-29T09:03:04.653087Z",
          "shell.execute_reply.started": "2021-06-29T08:55:26.402672Z"
        },
        "id": "adverse-ultimate",
        "papermill": {
          "duration": 0.239186,
          "end_time": "2021-06-29T09:03:04.653252",
          "exception": false,
          "start_time": "2021-06-29T09:03:04.414066",
          "status": "completed"
        },
        "tags": []
      },
      "outputs": [
        {
          "data": {
            "text/plain": [
              "<Axes: xlabel='Churn', ylabel='PaperlessBilling'>"
            ]
          },
          "execution_count": 29,
          "metadata": {},
          "output_type": "execute_result"
        },
        {
          "data": {
            "image/png": "[encoded data removed]",
            "text/plain": [
              "<Figure size 640x480 with 2 Axes>"
            ]
          },
          "metadata": {},
          "output_type": "display_data"
        }
      ],
      "source": [
        "# Is there a relationship between churn and paperless billing?\n",
        "sns.heatmap(pd.crosstab(df['PaperlessBilling'], df['Churn']), annot=True, fmt=\"d\", cmap=\"Blues\")"
      ]
    },
    {
      "cell_type": "markdown",
      "id": "social-accordance",
      "metadata": {
        "id": "social-accordance",
        "papermill": {
          "duration": 0.116013,
          "end_time": "2021-06-29T09:03:04.894633",
          "exception": false,
          "start_time": "2021-06-29T09:03:04.778620",
          "status": "completed"
        },
        "tags": []
      },
      "source": [
        "* Customers with Paperless Billing are most likely to churn."
      ]
    },
    {
      "cell_type": "code",
      "execution_count": 30,
      "id": "medieval-exclusion",
      "metadata": {
        "_kg_hide-input": true,
        "execution": {
          "iopub.execute_input": "2021-06-29T09:03:05.133006Z",
          "iopub.status.busy": "2021-06-29T09:03:05.132353Z",
          "iopub.status.idle": "2021-06-29T09:03:05.255793Z",
          "shell.execute_reply": "2021-06-29T09:03:05.256283Z",
          "shell.execute_reply.started": "2021-06-29T08:55:26.526228Z"
        },
        "id": "medieval-exclusion",
        "papermill": {
          "duration": 0.24287,
          "end_time": "2021-06-29T09:03:05.256470",
          "exception": false,
          "start_time": "2021-06-29T09:03:05.013600",
          "status": "completed"
        },
        "tags": []
      },
      "outputs": [
        {
          "data": {
            "text/plain": [
              "<Axes: xlabel='Churn', ylabel='TechSupport'>"
            ]
          },
          "execution_count": 30,
          "metadata": {},
          "output_type": "execute_result"
        },
        {
          "data": {
            "image/png": "[encoded data removed]",
            "text/plain": [
              "<Figure size 640x480 with 2 Axes>"
            ]
          },
          "metadata": {},
          "output_type": "display_data"
        }
      ],
      "source": [
        "# Is there a relation between churn and techsupport\n",
        "sns.heatmap(pd.crosstab(df['TechSupport'], df['Churn']), annot=True, fmt=\"d\", cmap=\"Blues\")"
      ]
    },
    {
      "cell_type": "markdown",
      "id": "injured-weekend",
      "metadata": {
        "id": "injured-weekend",
        "papermill": {
          "duration": 0.119599,
          "end_time": "2021-06-29T09:03:05.494863",
          "exception": false,
          "start_time": "2021-06-29T09:03:05.375264",
          "status": "completed"
        },
        "tags": []
      },
      "source": [
        "* Customers with no TechSupport are most likely to migrate to another service provider."
      ]
    },
    {
      "cell_type": "code",
      "execution_count": 31,
      "id": "ordinary-token",
      "metadata": {
        "_kg_hide-input": true,
        "execution": {
          "iopub.execute_input": "2021-06-29T09:03:05.735550Z",
          "iopub.status.busy": "2021-06-29T09:03:05.734778Z",
          "iopub.status.idle": "2021-06-29T09:03:05.857455Z",
          "shell.execute_reply": "2021-06-29T09:03:05.857951Z",
          "shell.execute_reply.started": "2021-06-29T08:55:26.656452Z"
        },
        "id": "ordinary-token",
        "papermill": {
          "duration": 0.244227,
          "end_time": "2021-06-29T09:03:05.858120",
          "exception": false,
          "start_time": "2021-06-29T09:03:05.613893",
          "status": "completed"
        },
        "tags": []
      },
      "outputs": [
        {
          "data": {
            "text/plain": [
              "<Axes: xlabel='Churn', ylabel='PhoneService'>"
            ]
          },
          "execution_count": 31,
          "metadata": {},
          "output_type": "execute_result"
        },
        {
          "data": {
            "image/png": "[encoded data removed]",
            "text/plain": [
              "<Figure size 640x480 with 2 Axes>"
            ]
          },
          "metadata": {},
          "output_type": "display_data"
        }
      ],
      "source": [
        "# Is there any relation between churn and phoneservice\n",
        "sns.heatmap(pd.crosstab(df['PhoneService'], df['Churn']), annot=True, fmt=\"d\", cmap=\"Blues\")\n"
      ]
    },
    {
      "cell_type": "markdown",
      "id": "fleet-reasoning",
      "metadata": {
        "id": "fleet-reasoning",
        "papermill": {
          "duration": 0.120596,
          "end_time": "2021-06-29T09:03:06.101557",
          "exception": false,
          "start_time": "2021-06-29T09:03:05.980961",
          "status": "completed"
        },
        "tags": []
      },
      "source": [
        "* Very small fraction of customers don't have a phone service and out of that, 1/3rd Customers are more likely to churn."
      ]
    },
    {
      "cell_type": "code",
      "execution_count": 32,
      "id": "relevant-henry",
      "metadata": {
        "_kg_hide-input": true,
        "execution": {
          "iopub.execute_input": "2021-06-29T09:03:06.347081Z",
          "iopub.status.busy": "2021-06-29T09:03:06.346487Z",
          "iopub.status.idle": "2021-06-29T09:03:06.603866Z",
          "shell.execute_reply": "2021-06-29T09:03:06.603143Z",
          "shell.execute_reply.started": "2021-06-29T08:55:26.779105Z"
        },
        "id": "relevant-henry",
        "papermill": {
          "duration": 0.381588,
          "end_time": "2021-06-29T09:03:06.604017",
          "exception": false,
          "start_time": "2021-06-29T09:03:06.222429",
          "status": "completed"
        },
        "tags": []
      },
      "outputs": [
        {
          "data": {
            "text/plain": [
              "<Axes: xlabel='Churn', ylabel='MonthlyCharges'>"
            ]
          },
          "execution_count": 32,
          "metadata": {},
          "output_type": "execute_result"
        },
        {
          "data": {
            "image/png": "[encoded data removed]",
            "text/plain": [
              "<Figure size 640x480 with 1 Axes>"
            ]
          },
          "metadata": {},
          "output_type": "display_data"
        }
      ],
      "source": [
        "# Investigate the relationship between monthly charges and churn\n",
        "sns.boxplot(x='Churn', y='MonthlyCharges', data=df)"
      ]
    },
    {
      "cell_type": "code",
      "execution_count": 33,
      "id": "5b925b41",
      "metadata": {},
      "outputs": [
        {
          "data": {
            "text/html": [
              "<div>\n",
              "<style scoped>\n",
              "    .dataframe tbody tr th:only-of-type {\n",
              "        vertical-align: middle;\n",
              "    }\n",
              "\n",
              "    .dataframe tbody tr th {\n",
              "        vertical-align: top;\n",
              "    }\n",
              "\n",
              "    .dataframe thead th {\n",
              "        text-align: right;\n",
              "    }\n",
              "</style>\n",
              "<table border=\"1\" class=\"dataframe\">\n",
              "  <thead>\n",
              "    <tr style=\"text-align: right;\">\n",
              "      <th></th>\n",
              "      <th>count</th>\n",
              "      <th>mean</th>\n",
              "      <th>std</th>\n",
              "      <th>min</th>\n",
              "      <th>25%</th>\n",
              "      <th>50%</th>\n",
              "      <th>75%</th>\n",
              "      <th>max</th>\n",
              "    </tr>\n",
              "    <tr>\n",
              "      <th>Churn</th>\n",
              "      <th></th>\n",
              "      <th></th>\n",
              "      <th></th>\n",
              "      <th></th>\n",
              "      <th></th>\n",
              "      <th></th>\n",
              "      <th></th>\n",
              "      <th></th>\n",
              "    </tr>\n",
              "  </thead>\n",
              "  <tbody>\n",
              "    <tr>\n",
              "      <th>No</th>\n",
              "      <td>5163.0</td>\n",
              "      <td>61.307408</td>\n",
              "      <td>31.094557</td>\n",
              "      <td>18.25</td>\n",
              "      <td>25.10</td>\n",
              "      <td>64.45</td>\n",
              "      <td>88.475</td>\n",
              "      <td>118.75</td>\n",
              "    </tr>\n",
              "    <tr>\n",
              "      <th>Yes</th>\n",
              "      <td>1869.0</td>\n",
              "      <td>74.441332</td>\n",
              "      <td>24.666053</td>\n",
              "      <td>18.85</td>\n",
              "      <td>56.15</td>\n",
              "      <td>79.65</td>\n",
              "      <td>94.200</td>\n",
              "      <td>118.35</td>\n",
              "    </tr>\n",
              "  </tbody>\n",
              "</table>\n",
              "</div>"
            ],
            "text/plain": [
              "        count       mean        std    min    25%    50%     75%     max\n",
              "Churn                                                                   \n",
              "No     5163.0  61.307408  31.094557  18.25  25.10  64.45  88.475  118.75\n",
              "Yes    1869.0  74.441332  24.666053  18.85  56.15  79.65  94.200  118.35"
            ]
          },
          "execution_count": 33,
          "metadata": {},
          "output_type": "execute_result"
        }
      ],
      "source": [
        "df.groupby('Churn')['MonthlyCharges'].describe()"
      ]
    },
    {
      "cell_type": "markdown",
      "id": "engaging-spice",
      "metadata": {
        "id": "engaging-spice",
        "papermill": {
          "duration": 0.121133,
          "end_time": "2021-06-29T09:03:06.848041",
          "exception": false,
          "start_time": "2021-06-29T09:03:06.726908",
          "status": "completed"
        },
        "tags": []
      },
      "source": [
        "* Customers with higher Monthly Charges are also more likely to churn"
      ]
    },
    {
      "cell_type": "code",
      "execution_count": 34,
      "id": "deluxe-basics",
      "metadata": {
        "_kg_hide-input": true,
        "execution": {
          "iopub.execute_input": "2021-06-29T09:03:07.103613Z",
          "iopub.status.busy": "2021-06-29T09:03:07.102909Z",
          "iopub.status.idle": "2021-06-29T09:03:07.316563Z",
          "shell.execute_reply": "2021-06-29T09:03:07.317079Z",
          "shell.execute_reply.started": "2021-06-29T08:55:27.034669Z"
        },
        "id": "deluxe-basics",
        "papermill": {
          "duration": 0.345661,
          "end_time": "2021-06-29T09:03:07.317256",
          "exception": false,
          "start_time": "2021-06-29T09:03:06.971595",
          "status": "completed"
        },
        "tags": []
      },
      "outputs": [
        {
          "data": {
            "text/html": [
              "<div>\n",
              "<style scoped>\n",
              "    .dataframe tbody tr th:only-of-type {\n",
              "        vertical-align: middle;\n",
              "    }\n",
              "\n",
              "    .dataframe tbody tr th {\n",
              "        vertical-align: top;\n",
              "    }\n",
              "\n",
              "    .dataframe thead th {\n",
              "        text-align: right;\n",
              "    }\n",
              "</style>\n",
              "<table border=\"1\" class=\"dataframe\">\n",
              "  <thead>\n",
              "    <tr style=\"text-align: right;\">\n",
              "      <th></th>\n",
              "      <th>count</th>\n",
              "      <th>mean</th>\n",
              "      <th>std</th>\n",
              "      <th>min</th>\n",
              "      <th>25%</th>\n",
              "      <th>50%</th>\n",
              "      <th>75%</th>\n",
              "      <th>max</th>\n",
              "    </tr>\n",
              "    <tr>\n",
              "      <th>Churn</th>\n",
              "      <th></th>\n",
              "      <th></th>\n",
              "      <th></th>\n",
              "      <th></th>\n",
              "      <th></th>\n",
              "      <th></th>\n",
              "      <th></th>\n",
              "      <th></th>\n",
              "    </tr>\n",
              "  </thead>\n",
              "  <tbody>\n",
              "    <tr>\n",
              "      <th>No</th>\n",
              "      <td>5163.0</td>\n",
              "      <td>2555.344141</td>\n",
              "      <td>2329.456984</td>\n",
              "      <td>18.80</td>\n",
              "      <td>577.825</td>\n",
              "      <td>1683.60</td>\n",
              "      <td>4264.125</td>\n",
              "      <td>8672.45</td>\n",
              "    </tr>\n",
              "    <tr>\n",
              "      <th>Yes</th>\n",
              "      <td>1869.0</td>\n",
              "      <td>1531.796094</td>\n",
              "      <td>1890.822994</td>\n",
              "      <td>18.85</td>\n",
              "      <td>134.500</td>\n",
              "      <td>703.55</td>\n",
              "      <td>2331.300</td>\n",
              "      <td>8684.80</td>\n",
              "    </tr>\n",
              "  </tbody>\n",
              "</table>\n",
              "</div>"
            ],
            "text/plain": [
              "        count         mean          std    min      25%      50%       75%  \\\n",
              "Churn                                                                        \n",
              "No     5163.0  2555.344141  2329.456984  18.80  577.825  1683.60  4264.125   \n",
              "Yes    1869.0  1531.796094  1890.822994  18.85  134.500   703.55  2331.300   \n",
              "\n",
              "           max  \n",
              "Churn           \n",
              "No     8672.45  \n",
              "Yes    8684.80  "
            ]
          },
          "execution_count": 34,
          "metadata": {},
          "output_type": "execute_result"
        }
      ],
      "source": [
        "# Investigate relation between totalCharges and Churn\n",
        "df.groupby('Churn')['TotalCharges'].describe()"
      ]
    },
    {
      "cell_type": "code",
      "execution_count": 35,
      "id": "b63b6543",
      "metadata": {},
      "outputs": [
        {
          "data": {
            "text/plain": [
              "<Axes: xlabel='Churn', ylabel='TotalCharges'>"
            ]
          },
          "execution_count": 35,
          "metadata": {},
          "output_type": "execute_result"
        },
        {
          "data": {
            "image/png": "[encoded data removed]",
            "text/plain": [
              "<Figure size 640x480 with 1 Axes>"
            ]
          },
          "metadata": {},
          "output_type": "display_data"
        }
      ],
      "source": [
        "sns.boxplot(x='Churn', y='TotalCharges', data=df)"
      ]
    },
    {
      "cell_type": "code",
      "execution_count": 36,
      "id": "british-password",
      "metadata": {
        "_kg_hide-input": true,
        "execution": {
          "iopub.execute_input": "2021-06-29T09:03:07.569253Z",
          "iopub.status.busy": "2021-06-29T09:03:07.568591Z",
          "iopub.status.idle": "2021-06-29T09:03:07.730934Z",
          "shell.execute_reply": "2021-06-29T09:03:07.731418Z",
          "shell.execute_reply.started": "2021-06-29T08:55:27.257034Z"
        },
        "id": "british-password",
        "papermill": {
          "duration": 0.290404,
          "end_time": "2021-06-29T09:03:07.731588",
          "exception": false,
          "start_time": "2021-06-29T09:03:07.441184",
          "status": "completed"
        },
        "tags": []
      },
      "outputs": [
        {
          "data": {
            "text/plain": [
              "<Axes: xlabel='Churn', ylabel='tenure'>"
            ]
          },
          "execution_count": 36,
          "metadata": {},
          "output_type": "execute_result"
        },
        {
          "data": {
            "image/png": "[encoded data removed]",
            "text/plain": [
              "<Figure size 640x480 with 1 Axes>"
            ]
          },
          "metadata": {},
          "output_type": "display_data"
        }
      ],
      "source": [
        "# Investigate relation of tenure and churn\n",
        "sns.boxplot(x='Churn', y='tenure', data=df)"
      ]
    },
    {
      "cell_type": "markdown",
      "id": "premium-prisoner",
      "metadata": {
        "id": "premium-prisoner",
        "papermill": {
          "duration": 0.124741,
          "end_time": "2021-06-29T09:03:07.983828",
          "exception": false,
          "start_time": "2021-06-29T09:03:07.859087",
          "status": "completed"
        },
        "tags": []
      },
      "source": [
        "* New customers are more likely to churn"
      ]
    },
    {
      "cell_type": "code",
      "execution_count": 37,
      "id": "intermediate-olive",
      "metadata": {
        "execution": {
          "iopub.execute_input": "2021-06-29T09:03:08.244323Z",
          "iopub.status.busy": "2021-06-29T09:03:08.243301Z",
          "iopub.status.idle": "2021-06-29T09:03:09.602740Z",
          "shell.execute_reply": "2021-06-29T09:03:09.603251Z",
          "shell.execute_reply.started": "2021-06-29T08:55:27.424358Z"
        },
        "id": "intermediate-olive",
        "papermill": {
          "duration": 1.493242,
          "end_time": "2021-06-29T09:03:09.603439",
          "exception": false,
          "start_time": "2021-06-29T09:03:08.110197",
          "status": "completed"
        },
        "tags": []
      },
      "outputs": [
        {
          "data": {
            "text/plain": [
              "<Axes: >"
            ]
          },
          "execution_count": 37,
          "metadata": {},
          "output_type": "execute_result"
        },
        {
          "data": {
            "image/png": "[encoded data removed]",
            "text/plain": [
              "<Figure size 640x480 with 2 Axes>"
            ]
          },
          "metadata": {},
          "output_type": "display_data"
        }
      ],
      "source": [
        "#lets look at correlations:))\n",
        "corr = df.corr(numeric_only=True)\n",
        "sns.heatmap(corr, annot=True, cmap=\"coolwarm\", center=0)"
      ]
    },
    {
      "cell_type": "markdown",
      "id": "social-freight",
      "metadata": {
        "id": "social-freight",
        "papermill": {
          "duration": 0.131252,
          "end_time": "2021-06-29T09:03:09.867185",
          "exception": false,
          "start_time": "2021-06-29T09:03:09.735933",
          "status": "completed"
        },
        "tags": []
      },
      "source": [
        "___"
      ]
    },
    {
      "cell_type": "markdown",
      "id": "married-array",
      "metadata": {
        "id": "married-array",
        "papermill": {
          "duration": 0.137702,
          "end_time": "2021-06-29T09:03:10.137885",
          "exception": false,
          "start_time": "2021-06-29T09:03:10.000183",
          "status": "completed"
        },
        "tags": []
      },
      "source": [
        "<a id = \"10\" ></a>\n",
        "# <span style=\"font-family:serif; font-size:28px;\"> 7. Data Preprocessing</span>\n",
        "<a id = \"datapreprocessing\" ></a>"
      ]
    },
    {
      "cell_type": "markdown",
      "id": "basic-dependence",
      "metadata": {
        "id": "basic-dependence",
        "papermill": {
          "duration": 0.133483,
          "end_time": "2021-06-29T09:03:10.402788",
          "exception": false,
          "start_time": "2021-06-29T09:03:10.269305",
          "status": "completed"
        },
        "tags": []
      },
      "source": [
        "<a id = \"1111\" ></a>\n",
        "#### **Splitting the data into train and test sets**\n",
        "<a id = \"Split\" ></a>"
      ]
    },
    {
      "cell_type": "code",
      "execution_count": 38,
      "id": "wicked-directive",
      "metadata": {
        "execution": {
          "iopub.execute_input": "2021-06-29T09:03:10.671793Z",
          "iopub.status.busy": "2021-06-29T09:03:10.670843Z",
          "iopub.status.idle": "2021-06-29T09:03:10.675250Z",
          "shell.execute_reply": "2021-06-29T09:03:10.675725Z",
          "shell.execute_reply.started": "2021-06-29T08:55:28.753167Z"
        },
        "id": "wicked-directive",
        "papermill": {
          "duration": 0.140369,
          "end_time": "2021-06-29T09:03:10.675897",
          "exception": false,
          "start_time": "2021-06-29T09:03:10.535528",
          "status": "completed"
        },
        "tags": []
      },
      "outputs": [],
      "source": [
        "def object_to_int(dataframe_series):\n",
        "    if dataframe_series.dtype=='object':\n",
        "        dataframe_series = LabelEncoder().fit_transform(dataframe_series)\n",
        "    return dataframe_series"
      ]
    },
    {
      "cell_type": "code",
      "execution_count": 39,
      "id": "verbal-culture",
      "metadata": {
        "colab": {
          "base_uri": "https://localhost:8080/",
          "height": 226
        },
        "execution": {
          "iopub.execute_input": "2021-06-29T09:03:10.942691Z",
          "iopub.status.busy": "2021-06-29T09:03:10.941722Z",
          "iopub.status.idle": "2021-06-29T09:03:11.003593Z",
          "shell.execute_reply": "2021-06-29T09:03:11.004074Z",
          "shell.execute_reply.started": "2021-06-29T08:55:28.761028Z"
        },
        "id": "verbal-culture",
        "outputId": "831223fa-1e8b-46ff-b21f-7de7bbbc7e31",
        "papermill": {
          "duration": 0.19759,
          "end_time": "2021-06-29T09:03:11.004256",
          "exception": false,
          "start_time": "2021-06-29T09:03:10.806666",
          "status": "completed"
        },
        "tags": []
      },
      "outputs": [
        {
          "data": {
            "text/html": [
              "<div>\n",
              "<style scoped>\n",
              "    .dataframe tbody tr th:only-of-type {\n",
              "        vertical-align: middle;\n",
              "    }\n",
              "\n",
              "    .dataframe tbody tr th {\n",
              "        vertical-align: top;\n",
              "    }\n",
              "\n",
              "    .dataframe thead th {\n",
              "        text-align: right;\n",
              "    }\n",
              "</style>\n",
              "<table border=\"1\" class=\"dataframe\">\n",
              "  <thead>\n",
              "    <tr style=\"text-align: right;\">\n",
              "      <th></th>\n",
              "      <th>gender</th>\n",
              "      <th>SeniorCitizen</th>\n",
              "      <th>Partner</th>\n",
              "      <th>Dependents</th>\n",
              "      <th>tenure</th>\n",
              "      <th>PhoneService</th>\n",
              "      <th>MultipleLines</th>\n",
              "      <th>InternetService</th>\n",
              "      <th>OnlineSecurity</th>\n",
              "      <th>OnlineBackup</th>\n",
              "      <th>DeviceProtection</th>\n",
              "      <th>TechSupport</th>\n",
              "      <th>StreamingTV</th>\n",
              "      <th>StreamingMovies</th>\n",
              "      <th>Contract</th>\n",
              "      <th>PaperlessBilling</th>\n",
              "      <th>PaymentMethod</th>\n",
              "      <th>MonthlyCharges</th>\n",
              "      <th>TotalCharges</th>\n",
              "      <th>Churn</th>\n",
              "    </tr>\n",
              "  </thead>\n",
              "  <tbody>\n",
              "    <tr>\n",
              "      <th>0</th>\n",
              "      <td>0</td>\n",
              "      <td>0</td>\n",
              "      <td>1</td>\n",
              "      <td>0</td>\n",
              "      <td>1</td>\n",
              "      <td>0</td>\n",
              "      <td>1</td>\n",
              "      <td>0</td>\n",
              "      <td>0</td>\n",
              "      <td>2</td>\n",
              "      <td>0</td>\n",
              "      <td>0</td>\n",
              "      <td>0</td>\n",
              "      <td>0</td>\n",
              "      <td>0</td>\n",
              "      <td>1</td>\n",
              "      <td>2</td>\n",
              "      <td>29.85</td>\n",
              "      <td>29.85</td>\n",
              "      <td>0</td>\n",
              "    </tr>\n",
              "    <tr>\n",
              "      <th>1</th>\n",
              "      <td>1</td>\n",
              "      <td>0</td>\n",
              "      <td>0</td>\n",
              "      <td>0</td>\n",
              "      <td>34</td>\n",
              "      <td>1</td>\n",
              "      <td>0</td>\n",
              "      <td>0</td>\n",
              "      <td>2</td>\n",
              "      <td>0</td>\n",
              "      <td>2</td>\n",
              "      <td>0</td>\n",
              "      <td>0</td>\n",
              "      <td>0</td>\n",
              "      <td>1</td>\n",
              "      <td>0</td>\n",
              "      <td>3</td>\n",
              "      <td>56.95</td>\n",
              "      <td>1889.50</td>\n",
              "      <td>0</td>\n",
              "    </tr>\n",
              "    <tr>\n",
              "      <th>2</th>\n",
              "      <td>1</td>\n",
              "      <td>0</td>\n",
              "      <td>0</td>\n",
              "      <td>0</td>\n",
              "      <td>2</td>\n",
              "      <td>1</td>\n",
              "      <td>0</td>\n",
              "      <td>0</td>\n",
              "      <td>2</td>\n",
              "      <td>2</td>\n",
              "      <td>0</td>\n",
              "      <td>0</td>\n",
              "      <td>0</td>\n",
              "      <td>0</td>\n",
              "      <td>0</td>\n",
              "      <td>1</td>\n",
              "      <td>3</td>\n",
              "      <td>53.85</td>\n",
              "      <td>108.15</td>\n",
              "      <td>1</td>\n",
              "    </tr>\n",
              "    <tr>\n",
              "      <th>3</th>\n",
              "      <td>1</td>\n",
              "      <td>0</td>\n",
              "      <td>0</td>\n",
              "      <td>0</td>\n",
              "      <td>45</td>\n",
              "      <td>0</td>\n",
              "      <td>1</td>\n",
              "      <td>0</td>\n",
              "      <td>2</td>\n",
              "      <td>0</td>\n",
              "      <td>2</td>\n",
              "      <td>2</td>\n",
              "      <td>0</td>\n",
              "      <td>0</td>\n",
              "      <td>1</td>\n",
              "      <td>0</td>\n",
              "      <td>0</td>\n",
              "      <td>42.30</td>\n",
              "      <td>1840.75</td>\n",
              "      <td>0</td>\n",
              "    </tr>\n",
              "    <tr>\n",
              "      <th>4</th>\n",
              "      <td>0</td>\n",
              "      <td>0</td>\n",
              "      <td>0</td>\n",
              "      <td>0</td>\n",
              "      <td>2</td>\n",
              "      <td>1</td>\n",
              "      <td>0</td>\n",
              "      <td>1</td>\n",
              "      <td>0</td>\n",
              "      <td>0</td>\n",
              "      <td>0</td>\n",
              "      <td>0</td>\n",
              "      <td>0</td>\n",
              "      <td>0</td>\n",
              "      <td>0</td>\n",
              "      <td>1</td>\n",
              "      <td>2</td>\n",
              "      <td>70.70</td>\n",
              "      <td>151.65</td>\n",
              "      <td>1</td>\n",
              "    </tr>\n",
              "  </tbody>\n",
              "</table>\n",
              "</div>"
            ],
            "text/plain": [
              "   gender  SeniorCitizen  Partner  Dependents  tenure  PhoneService  \\\n",
              "0       0              0        1           0       1             0   \n",
              "1       1              0        0           0      34             1   \n",
              "2       1              0        0           0       2             1   \n",
              "3       1              0        0           0      45             0   \n",
              "4       0              0        0           0       2             1   \n",
              "\n",
              "   MultipleLines  InternetService  OnlineSecurity  OnlineBackup  \\\n",
              "0              1                0               0             2   \n",
              "1              0                0               2             0   \n",
              "2              0                0               2             2   \n",
              "3              1                0               2             0   \n",
              "4              0                1               0             0   \n",
              "\n",
              "   DeviceProtection  TechSupport  StreamingTV  StreamingMovies  Contract  \\\n",
              "0                 0            0            0                0         0   \n",
              "1                 2            0            0                0         1   \n",
              "2                 0            0            0                0         0   \n",
              "3                 2            2            0                0         1   \n",
              "4                 0            0            0                0         0   \n",
              "\n",
              "   PaperlessBilling  PaymentMethod  MonthlyCharges  TotalCharges  Churn  \n",
              "0                 1              2           29.85         29.85      0  \n",
              "1                 0              3           56.95       1889.50      0  \n",
              "2                 1              3           53.85        108.15      1  \n",
              "3                 0              0           42.30       1840.75      0  \n",
              "4                 1              2           70.70        151.65      1  "
            ]
          },
          "execution_count": 39,
          "metadata": {},
          "output_type": "execute_result"
        }
      ],
      "source": [
        "df = df.apply(lambda x: object_to_int(x))\n",
        "df.head()"
      ]
    },
    {
      "cell_type": "code",
      "execution_count": 40,
      "id": "cheap-writing",
      "metadata": {
        "colab": {
          "base_uri": "https://localhost:8080/",
          "height": 728
        },
        "execution": {
          "iopub.execute_input": "2021-06-29T09:03:11.270643Z",
          "iopub.status.busy": "2021-06-29T09:03:11.269668Z",
          "iopub.status.idle": "2021-06-29T09:03:11.289993Z",
          "shell.execute_reply": "2021-06-29T09:03:11.290504Z",
          "shell.execute_reply.started": "2021-06-29T08:55:28.836618Z"
        },
        "id": "cheap-writing",
        "outputId": "fc0cc90e-aa26-46fc-ae69-0f115834f1a6",
        "papermill": {
          "duration": 0.154339,
          "end_time": "2021-06-29T09:03:11.290684",
          "exception": false,
          "start_time": "2021-06-29T09:03:11.136345",
          "status": "completed"
        },
        "tags": []
      },
      "outputs": [
        {
          "data": {
            "text/plain": [
              "Churn               1.000000\n",
              "MonthlyCharges      0.192858\n",
              "PaperlessBilling    0.191454\n",
              "SeniorCitizen       0.150541\n",
              "PaymentMethod       0.107852\n",
              "MultipleLines       0.038043\n",
              "PhoneService        0.011691\n",
              "gender             -0.008545\n",
              "StreamingTV        -0.036303\n",
              "StreamingMovies    -0.038802\n",
              "InternetService    -0.047097\n",
              "Partner            -0.149982\n",
              "Dependents         -0.163128\n",
              "DeviceProtection   -0.177883\n",
              "OnlineBackup       -0.195290\n",
              "TotalCharges       -0.199484\n",
              "TechSupport        -0.282232\n",
              "OnlineSecurity     -0.289050\n",
              "tenure             -0.354049\n",
              "Contract           -0.396150\n",
              "Name: Churn, dtype: float64"
            ]
          },
          "execution_count": 40,
          "metadata": {},
          "output_type": "execute_result"
        },
        {
          "data": {
            "text/plain": [
              "<Figure size 1400x700 with 0 Axes>"
            ]
          },
          "metadata": {},
          "output_type": "display_data"
        }
      ],
      "source": [
        "plt.figure(figsize=(14,7))\n",
        "df.corr()['Churn'].sort_values(ascending = False)"
      ]
    },
    {
      "cell_type": "code",
      "execution_count": 41,
      "id": "confirmed-daisy",
      "metadata": {
        "execution": {
          "iopub.execute_input": "2021-06-29T09:03:11.559479Z",
          "iopub.status.busy": "2021-06-29T09:03:11.558779Z",
          "iopub.status.idle": "2021-06-29T09:03:11.563957Z",
          "shell.execute_reply": "2021-06-29T09:03:11.564443Z",
          "shell.execute_reply.started": "2021-06-29T08:55:28.861461Z"
        },
        "id": "confirmed-daisy",
        "papermill": {
          "duration": 0.14135,
          "end_time": "2021-06-29T09:03:11.564626",
          "exception": false,
          "start_time": "2021-06-29T09:03:11.423276",
          "status": "completed"
        },
        "tags": []
      },
      "outputs": [],
      "source": [
        "X = df.drop(columns = ['Churn'])\n",
        "y = df['Churn'].values"
      ]
    },
    {
      "cell_type": "code",
      "execution_count": 42,
      "id": "medium-architecture",
      "metadata": {
        "execution": {
          "iopub.execute_input": "2021-06-29T09:03:11.835990Z",
          "iopub.status.busy": "2021-06-29T09:03:11.835342Z",
          "iopub.status.idle": "2021-06-29T09:03:11.848155Z",
          "shell.execute_reply": "2021-06-29T09:03:11.847630Z",
          "shell.execute_reply.started": "2021-06-29T08:55:28.870167Z"
        },
        "id": "medium-architecture",
        "papermill": {
          "duration": 0.148807,
          "end_time": "2021-06-29T09:03:11.848327",
          "exception": false,
          "start_time": "2021-06-29T09:03:11.699520",
          "status": "completed"
        },
        "tags": []
      },
      "outputs": [],
      "source": [
        "# Split train, test (0.7, 0.3)\n",
        "X_train, X_test, y_train, y_test = train_test_split(X, y, test_size=0.3, random_state=42)"
      ]
    },
    {
      "cell_type": "code",
      "execution_count": 43,
      "id": "moderate-civilian",
      "metadata": {
        "execution": {
          "iopub.execute_input": "2021-06-29T09:03:12.121779Z",
          "iopub.status.busy": "2021-06-29T09:03:12.120960Z",
          "iopub.status.idle": "2021-06-29T09:03:12.125731Z",
          "shell.execute_reply": "2021-06-29T09:03:12.126275Z",
          "shell.execute_reply.started": "2021-06-29T08:55:28.892174Z"
        },
        "id": "moderate-civilian",
        "papermill": {
          "duration": 0.143783,
          "end_time": "2021-06-29T09:03:12.126481",
          "exception": false,
          "start_time": "2021-06-29T09:03:11.982698",
          "status": "completed"
        },
        "tags": []
      },
      "outputs": [],
      "source": [
        "def distplot(feature, frame, color='r'):\n",
        "    plt.figure(figsize=(8,3))\n",
        "    plt.title(\"Distribution for {}\".format(feature))\n",
        "    ax = sns.distplot(frame[feature], color= color)"
      ]
    },
    {
      "cell_type": "code",
      "execution_count": 44,
      "id": "understanding-suite",
      "metadata": {
        "colab": {
          "base_uri": "https://localhost:8080/",
          "height": 965
        },
        "execution": {
          "iopub.execute_input": "2021-06-29T09:03:12.400576Z",
          "iopub.status.busy": "2021-06-29T09:03:12.399805Z",
          "iopub.status.idle": "2021-06-29T09:03:13.078166Z",
          "shell.execute_reply": "2021-06-29T09:03:13.078717Z",
          "shell.execute_reply.started": "2021-06-29T08:55:28.899191Z"
        },
        "id": "understanding-suite",
        "outputId": "a0e96e65-4591-4a6d-f427-bc9f68ebb2e1",
        "papermill": {
          "duration": 0.818452,
          "end_time": "2021-06-29T09:03:13.078895",
          "exception": false,
          "start_time": "2021-06-29T09:03:12.260443",
          "status": "completed"
        },
        "tags": []
      },
      "outputs": [
        {
          "data": {
            "image/png": "[encoded data removed]",
            "text/plain": [
              "<Figure size 800x300 with 1 Axes>"
            ]
          },
          "metadata": {},
          "output_type": "display_data"
        },
        {
          "data": {
            "image/png": "[encoded data removed]",
            "text/plain": [
              "<Figure size 800x300 with 1 Axes>"
            ]
          },
          "metadata": {},
          "output_type": "display_data"
        },
        {
          "data": {
            "image/png": "[encoded data removed]",
            "text/plain": [
              "<Figure size 800x300 with 1 Axes>"
            ]
          },
          "metadata": {},
          "output_type": "display_data"
        }
      ],
      "source": [
        "# what do you understand from these plots?\n",
        "num_cols = [\"tenure\", 'MonthlyCharges', 'TotalCharges']\n",
        "for feat in num_cols: distplot(feat, df)"
      ]
    },
    {
      "cell_type": "code",
      "execution_count": 45,
      "id": "mysterious-pasta",
      "metadata": {
        "execution": {
          "iopub.execute_input": "2021-06-29T09:03:14.996645Z",
          "iopub.status.busy": "2021-06-29T09:03:14.995977Z",
          "iopub.status.idle": "2021-06-29T09:03:14.997948Z",
          "shell.execute_reply": "2021-06-29T09:03:14.998442Z",
          "shell.execute_reply.started": "2021-06-29T08:55:30.353283Z"
        },
        "id": "mysterious-pasta",
        "papermill": {
          "duration": 0.144735,
          "end_time": "2021-06-29T09:03:14.998614",
          "exception": false,
          "start_time": "2021-06-29T09:03:14.853879",
          "status": "completed"
        },
        "tags": []
      },
      "outputs": [],
      "source": [
        "# Divide the columns into 3 categories, one ofor standardisation, one for label encoding and one for one hot encoding\n",
        "\n",
        "cat_cols_ohe =['PaymentMethod', 'Contract', 'InternetService'] # those that need one-hot encoding\n",
        "cat_cols_le = list(set(X_train.columns)- set(num_cols) - set(cat_cols_ohe)) #those that need label encoding"
      ]
    },
    {
      "cell_type": "code",
      "execution_count": 46,
      "id": "medium-balloon",
      "metadata": {
        "execution": {
          "iopub.execute_input": "2021-06-29T09:03:15.281000Z",
          "iopub.status.busy": "2021-06-29T09:03:15.279916Z",
          "iopub.status.idle": "2021-06-29T09:03:15.301580Z",
          "shell.execute_reply": "2021-06-29T09:03:15.302083Z",
          "shell.execute_reply.started": "2021-06-29T08:55:30.359670Z"
        },
        "id": "medium-balloon",
        "papermill": {
          "duration": 0.165021,
          "end_time": "2021-06-29T09:03:15.302258",
          "exception": false,
          "start_time": "2021-06-29T09:03:15.137237",
          "status": "completed"
        },
        "tags": []
      },
      "outputs": [],
      "source": [
        "# scale numerical columns?\n",
        "scaler = StandardScaler()\n",
        "df[num_cols] = scaler.fit_transform(df[num_cols])\n"
      ]
    },
    {
      "cell_type": "code",
      "execution_count": 47,
      "id": "c0669433",
      "metadata": {},
      "outputs": [
        {
          "data": {
            "text/html": [
              "<div>\n",
              "<style scoped>\n",
              "    .dataframe tbody tr th:only-of-type {\n",
              "        vertical-align: middle;\n",
              "    }\n",
              "\n",
              "    .dataframe tbody tr th {\n",
              "        vertical-align: top;\n",
              "    }\n",
              "\n",
              "    .dataframe thead th {\n",
              "        text-align: right;\n",
              "    }\n",
              "</style>\n",
              "<table border=\"1\" class=\"dataframe\">\n",
              "  <thead>\n",
              "    <tr style=\"text-align: right;\">\n",
              "      <th></th>\n",
              "      <th>gender</th>\n",
              "      <th>SeniorCitizen</th>\n",
              "      <th>Partner</th>\n",
              "      <th>Dependents</th>\n",
              "      <th>tenure</th>\n",
              "      <th>PhoneService</th>\n",
              "      <th>MultipleLines</th>\n",
              "      <th>InternetService</th>\n",
              "      <th>OnlineSecurity</th>\n",
              "      <th>OnlineBackup</th>\n",
              "      <th>DeviceProtection</th>\n",
              "      <th>TechSupport</th>\n",
              "      <th>StreamingTV</th>\n",
              "      <th>StreamingMovies</th>\n",
              "      <th>Contract</th>\n",
              "      <th>PaperlessBilling</th>\n",
              "      <th>PaymentMethod</th>\n",
              "      <th>MonthlyCharges</th>\n",
              "      <th>TotalCharges</th>\n",
              "      <th>Churn</th>\n",
              "    </tr>\n",
              "  </thead>\n",
              "  <tbody>\n",
              "    <tr>\n",
              "      <th>0</th>\n",
              "      <td>0</td>\n",
              "      <td>0</td>\n",
              "      <td>1</td>\n",
              "      <td>0</td>\n",
              "      <td>-1.280248</td>\n",
              "      <td>0</td>\n",
              "      <td>1</td>\n",
              "      <td>0</td>\n",
              "      <td>0</td>\n",
              "      <td>2</td>\n",
              "      <td>0</td>\n",
              "      <td>0</td>\n",
              "      <td>0</td>\n",
              "      <td>0</td>\n",
              "      <td>0</td>\n",
              "      <td>1</td>\n",
              "      <td>2</td>\n",
              "      <td>-1.161694</td>\n",
              "      <td>-0.994194</td>\n",
              "      <td>0</td>\n",
              "    </tr>\n",
              "    <tr>\n",
              "      <th>1</th>\n",
              "      <td>1</td>\n",
              "      <td>0</td>\n",
              "      <td>0</td>\n",
              "      <td>0</td>\n",
              "      <td>0.064303</td>\n",
              "      <td>1</td>\n",
              "      <td>0</td>\n",
              "      <td>0</td>\n",
              "      <td>2</td>\n",
              "      <td>0</td>\n",
              "      <td>2</td>\n",
              "      <td>0</td>\n",
              "      <td>0</td>\n",
              "      <td>0</td>\n",
              "      <td>1</td>\n",
              "      <td>0</td>\n",
              "      <td>3</td>\n",
              "      <td>-0.260878</td>\n",
              "      <td>-0.173740</td>\n",
              "      <td>0</td>\n",
              "    </tr>\n",
              "    <tr>\n",
              "      <th>2</th>\n",
              "      <td>1</td>\n",
              "      <td>0</td>\n",
              "      <td>0</td>\n",
              "      <td>0</td>\n",
              "      <td>-1.239504</td>\n",
              "      <td>1</td>\n",
              "      <td>0</td>\n",
              "      <td>0</td>\n",
              "      <td>2</td>\n",
              "      <td>2</td>\n",
              "      <td>0</td>\n",
              "      <td>0</td>\n",
              "      <td>0</td>\n",
              "      <td>0</td>\n",
              "      <td>0</td>\n",
              "      <td>1</td>\n",
              "      <td>3</td>\n",
              "      <td>-0.363923</td>\n",
              "      <td>-0.959649</td>\n",
              "      <td>1</td>\n",
              "    </tr>\n",
              "    <tr>\n",
              "      <th>3</th>\n",
              "      <td>1</td>\n",
              "      <td>0</td>\n",
              "      <td>0</td>\n",
              "      <td>0</td>\n",
              "      <td>0.512486</td>\n",
              "      <td>0</td>\n",
              "      <td>1</td>\n",
              "      <td>0</td>\n",
              "      <td>2</td>\n",
              "      <td>0</td>\n",
              "      <td>2</td>\n",
              "      <td>2</td>\n",
              "      <td>0</td>\n",
              "      <td>0</td>\n",
              "      <td>1</td>\n",
              "      <td>0</td>\n",
              "      <td>0</td>\n",
              "      <td>-0.747850</td>\n",
              "      <td>-0.195248</td>\n",
              "      <td>0</td>\n",
              "    </tr>\n",
              "    <tr>\n",
              "      <th>4</th>\n",
              "      <td>0</td>\n",
              "      <td>0</td>\n",
              "      <td>0</td>\n",
              "      <td>0</td>\n",
              "      <td>-1.239504</td>\n",
              "      <td>1</td>\n",
              "      <td>0</td>\n",
              "      <td>1</td>\n",
              "      <td>0</td>\n",
              "      <td>0</td>\n",
              "      <td>0</td>\n",
              "      <td>0</td>\n",
              "      <td>0</td>\n",
              "      <td>0</td>\n",
              "      <td>0</td>\n",
              "      <td>1</td>\n",
              "      <td>2</td>\n",
              "      <td>0.196178</td>\n",
              "      <td>-0.940457</td>\n",
              "      <td>1</td>\n",
              "    </tr>\n",
              "    <tr>\n",
              "      <th>...</th>\n",
              "      <td>...</td>\n",
              "      <td>...</td>\n",
              "      <td>...</td>\n",
              "      <td>...</td>\n",
              "      <td>...</td>\n",
              "      <td>...</td>\n",
              "      <td>...</td>\n",
              "      <td>...</td>\n",
              "      <td>...</td>\n",
              "      <td>...</td>\n",
              "      <td>...</td>\n",
              "      <td>...</td>\n",
              "      <td>...</td>\n",
              "      <td>...</td>\n",
              "      <td>...</td>\n",
              "      <td>...</td>\n",
              "      <td>...</td>\n",
              "      <td>...</td>\n",
              "      <td>...</td>\n",
              "      <td>...</td>\n",
              "    </tr>\n",
              "    <tr>\n",
              "      <th>7038</th>\n",
              "      <td>1</td>\n",
              "      <td>0</td>\n",
              "      <td>1</td>\n",
              "      <td>1</td>\n",
              "      <td>-0.343137</td>\n",
              "      <td>1</td>\n",
              "      <td>2</td>\n",
              "      <td>0</td>\n",
              "      <td>2</td>\n",
              "      <td>0</td>\n",
              "      <td>2</td>\n",
              "      <td>2</td>\n",
              "      <td>2</td>\n",
              "      <td>2</td>\n",
              "      <td>1</td>\n",
              "      <td>1</td>\n",
              "      <td>3</td>\n",
              "      <td>0.664868</td>\n",
              "      <td>-0.129180</td>\n",
              "      <td>0</td>\n",
              "    </tr>\n",
              "    <tr>\n",
              "      <th>7039</th>\n",
              "      <td>0</td>\n",
              "      <td>0</td>\n",
              "      <td>1</td>\n",
              "      <td>1</td>\n",
              "      <td>1.612573</td>\n",
              "      <td>1</td>\n",
              "      <td>2</td>\n",
              "      <td>1</td>\n",
              "      <td>0</td>\n",
              "      <td>2</td>\n",
              "      <td>2</td>\n",
              "      <td>0</td>\n",
              "      <td>2</td>\n",
              "      <td>2</td>\n",
              "      <td>1</td>\n",
              "      <td>1</td>\n",
              "      <td>1</td>\n",
              "      <td>1.276493</td>\n",
              "      <td>2.241056</td>\n",
              "      <td>0</td>\n",
              "    </tr>\n",
              "    <tr>\n",
              "      <th>7040</th>\n",
              "      <td>0</td>\n",
              "      <td>0</td>\n",
              "      <td>1</td>\n",
              "      <td>1</td>\n",
              "      <td>-0.872808</td>\n",
              "      <td>0</td>\n",
              "      <td>1</td>\n",
              "      <td>0</td>\n",
              "      <td>2</td>\n",
              "      <td>0</td>\n",
              "      <td>0</td>\n",
              "      <td>0</td>\n",
              "      <td>0</td>\n",
              "      <td>0</td>\n",
              "      <td>0</td>\n",
              "      <td>1</td>\n",
              "      <td>2</td>\n",
              "      <td>-1.170004</td>\n",
              "      <td>-0.854514</td>\n",
              "      <td>0</td>\n",
              "    </tr>\n",
              "    <tr>\n",
              "      <th>7041</th>\n",
              "      <td>1</td>\n",
              "      <td>1</td>\n",
              "      <td>1</td>\n",
              "      <td>0</td>\n",
              "      <td>-1.158016</td>\n",
              "      <td>1</td>\n",
              "      <td>2</td>\n",
              "      <td>1</td>\n",
              "      <td>0</td>\n",
              "      <td>0</td>\n",
              "      <td>0</td>\n",
              "      <td>0</td>\n",
              "      <td>0</td>\n",
              "      <td>0</td>\n",
              "      <td>0</td>\n",
              "      <td>1</td>\n",
              "      <td>3</td>\n",
              "      <td>0.319168</td>\n",
              "      <td>-0.872095</td>\n",
              "      <td>1</td>\n",
              "    </tr>\n",
              "    <tr>\n",
              "      <th>7042</th>\n",
              "      <td>1</td>\n",
              "      <td>0</td>\n",
              "      <td>0</td>\n",
              "      <td>0</td>\n",
              "      <td>1.368109</td>\n",
              "      <td>1</td>\n",
              "      <td>0</td>\n",
              "      <td>1</td>\n",
              "      <td>2</td>\n",
              "      <td>0</td>\n",
              "      <td>2</td>\n",
              "      <td>2</td>\n",
              "      <td>2</td>\n",
              "      <td>2</td>\n",
              "      <td>2</td>\n",
              "      <td>1</td>\n",
              "      <td>0</td>\n",
              "      <td>1.357932</td>\n",
              "      <td>2.012344</td>\n",
              "      <td>0</td>\n",
              "    </tr>\n",
              "  </tbody>\n",
              "</table>\n",
              "<p>7032 rows × 20 columns</p>\n",
              "</div>"
            ],
            "text/plain": [
              "      gender  SeniorCitizen  Partner  Dependents    tenure  PhoneService  \\\n",
              "0          0              0        1           0 -1.280248             0   \n",
              "1          1              0        0           0  0.064303             1   \n",
              "2          1              0        0           0 -1.239504             1   \n",
              "3          1              0        0           0  0.512486             0   \n",
              "4          0              0        0           0 -1.239504             1   \n",
              "...      ...            ...      ...         ...       ...           ...   \n",
              "7038       1              0        1           1 -0.343137             1   \n",
              "7039       0              0        1           1  1.612573             1   \n",
              "7040       0              0        1           1 -0.872808             0   \n",
              "7041       1              1        1           0 -1.158016             1   \n",
              "7042       1              0        0           0  1.368109             1   \n",
              "\n",
              "      MultipleLines  InternetService  OnlineSecurity  OnlineBackup  \\\n",
              "0                 1                0               0             2   \n",
              "1                 0                0               2             0   \n",
              "2                 0                0               2             2   \n",
              "3                 1                0               2             0   \n",
              "4                 0                1               0             0   \n",
              "...             ...              ...             ...           ...   \n",
              "7038              2                0               2             0   \n",
              "7039              2                1               0             2   \n",
              "7040              1                0               2             0   \n",
              "7041              2                1               0             0   \n",
              "7042              0                1               2             0   \n",
              "\n",
              "      DeviceProtection  TechSupport  StreamingTV  StreamingMovies  Contract  \\\n",
              "0                    0            0            0                0         0   \n",
              "1                    2            0            0                0         1   \n",
              "2                    0            0            0                0         0   \n",
              "3                    2            2            0                0         1   \n",
              "4                    0            0            0                0         0   \n",
              "...                ...          ...          ...              ...       ...   \n",
              "7038                 2            2            2                2         1   \n",
              "7039                 2            0            2                2         1   \n",
              "7040                 0            0            0                0         0   \n",
              "7041                 0            0            0                0         0   \n",
              "7042                 2            2            2                2         2   \n",
              "\n",
              "      PaperlessBilling  PaymentMethod  MonthlyCharges  TotalCharges  Churn  \n",
              "0                    1              2       -1.161694     -0.994194      0  \n",
              "1                    0              3       -0.260878     -0.173740      0  \n",
              "2                    1              3       -0.363923     -0.959649      1  \n",
              "3                    0              0       -0.747850     -0.195248      0  \n",
              "4                    1              2        0.196178     -0.940457      1  \n",
              "...                ...            ...             ...           ...    ...  \n",
              "7038                 1              3        0.664868     -0.129180      0  \n",
              "7039                 1              1        1.276493      2.241056      0  \n",
              "7040                 1              2       -1.170004     -0.854514      0  \n",
              "7041                 1              3        0.319168     -0.872095      1  \n",
              "7042                 1              0        1.357932      2.012344      0  \n",
              "\n",
              "[7032 rows x 20 columns]"
            ]
          },
          "execution_count": 47,
          "metadata": {},
          "output_type": "execute_result"
        }
      ],
      "source": [
        "df"
      ]
    },
    {
      "cell_type": "markdown",
      "id": "positive-collar",
      "metadata": {
        "id": "positive-collar",
        "papermill": {
          "duration": 0.137287,
          "end_time": "2021-06-29T09:03:15.577264",
          "exception": false,
          "start_time": "2021-06-29T09:03:15.439977",
          "status": "completed"
        },
        "tags": []
      },
      "source": [
        "<a id = \"11\" ></a>\n",
        "# <span style=\"font-family:serif; font-size:28px;\"> 8. Machine Learning Model Evaluations and Predictions</span>\n",
        "<a id = \"modelprediction\" ></a>"
      ]
    },
    {
      "cell_type": "markdown",
      "id": "delayed-utility",
      "metadata": {
        "id": "delayed-utility",
        "papermill": {
          "duration": 0.140501,
          "end_time": "2021-06-29T09:03:16.130328",
          "exception": false,
          "start_time": "2021-06-29T09:03:15.989827",
          "status": "completed"
        },
        "tags": []
      },
      "source": [
        "<a id = \"101\" ></a>\n",
        "#### <b> KNN</b>\n",
        "<a id = \"knn\" ></a>"
      ]
    },
    {
      "cell_type": "code",
      "execution_count": 48,
      "id": "wicked-wales",
      "metadata": {
        "execution": {
          "iopub.execute_input": "2021-06-29T09:03:16.412286Z",
          "iopub.status.busy": "2021-06-29T09:03:16.411302Z",
          "iopub.status.idle": "2021-06-29T09:03:17.102818Z",
          "shell.execute_reply": "2021-06-29T09:03:17.102061Z",
          "shell.execute_reply.started": "2021-06-29T08:55:30.392776Z"
        },
        "id": "wicked-wales",
        "papermill": {
          "duration": 0.833777,
          "end_time": "2021-06-29T09:03:17.102970",
          "exception": false,
          "start_time": "2021-06-29T09:03:16.269193",
          "status": "completed"
        },
        "tags": []
      },
      "outputs": [
        {
          "name": "stdout",
          "output_type": "stream",
          "text": [
            "Accuracy: 0.7568720379146919\n",
            "\n",
            "Confusion Matrix:\n",
            " [[1311  238]\n",
            " [ 275  286]]\n"
          ]
        }
      ],
      "source": [
        "# Train classifier with KNN\n",
        "\n",
        "X = df.drop(columns = ['Churn'])\n",
        "y = df['Churn'].values\n",
        "\n",
        "X_train, X_test, y_train, y_test = train_test_split(X, y, test_size=0.3, random_state=42)\n",
        "\n",
        "knn = KNeighborsClassifier(n_neighbors=5)\n",
        "knn.fit(X_train, y_train)\n",
        "\n",
        "y_pred = knn.predict(X_test)\n",
        "\n",
        "\n",
        "print(\"Accuracy:\", accuracy_score(y_test, y_pred))\n",
        "\n",
        "print(\"\\nConfusion Matrix:\\n\", confusion_matrix(y_test, y_pred))"
      ]
    },
    {
      "cell_type": "code",
      "execution_count": 49,
      "id": "personalized-theology",
      "metadata": {
        "execution": {
          "iopub.execute_input": "2021-06-29T09:03:17.383863Z",
          "iopub.status.busy": "2021-06-29T09:03:17.383165Z",
          "iopub.status.idle": "2021-06-29T09:03:17.395649Z",
          "shell.execute_reply": "2021-06-29T09:03:17.394729Z",
          "shell.execute_reply.started": "2021-06-29T08:56:22.232204Z"
        },
        "id": "personalized-theology",
        "papermill": {
          "duration": 0.154929,
          "end_time": "2021-06-29T09:03:17.395846",
          "exception": false,
          "start_time": "2021-06-29T09:03:17.240917",
          "status": "completed"
        },
        "tags": []
      },
      "outputs": [
        {
          "name": "stdout",
          "output_type": "stream",
          "text": [
            "\n",
            "Classification Report:\n",
            "               precision    recall  f1-score   support\n",
            "\n",
            "           0       0.83      0.85      0.84      1549\n",
            "           1       0.55      0.51      0.53       561\n",
            "\n",
            "    accuracy                           0.76      2110\n",
            "   macro avg       0.69      0.68      0.68      2110\n",
            "weighted avg       0.75      0.76      0.75      2110\n",
            "\n"
          ]
        }
      ],
      "source": [
        "# Report appropriate metrics on classification\n",
        "print(\"\\nClassification Report:\\n\", classification_report(y_test, y_pred))"
      ]
    },
    {
      "cell_type": "markdown",
      "id": "elect-adobe",
      "metadata": {
        "id": "elect-adobe",
        "papermill": {
          "duration": 0.137578,
          "end_time": "2021-06-29T09:03:17.673862",
          "exception": false,
          "start_time": "2021-06-29T09:03:17.536284",
          "status": "completed"
        },
        "tags": []
      },
      "source": [
        "<a id = \"102\" ></a>\n",
        "#### <b>SVC</b>\n",
        "<a id = \"svc\" ></a>"
      ]
    },
    {
      "cell_type": "code",
      "execution_count": 50,
      "id": "becoming-vegetable",
      "metadata": {
        "execution": {
          "iopub.execute_input": "2021-06-29T09:03:17.959215Z",
          "iopub.status.busy": "2021-06-29T09:03:17.958509Z",
          "iopub.status.idle": "2021-06-29T09:03:19.615970Z",
          "shell.execute_reply": "2021-06-29T09:03:19.616445Z",
          "shell.execute_reply.started": "2021-06-29T08:58:18.234695Z"
        },
        "id": "becoming-vegetable",
        "papermill": {
          "duration": 1.803273,
          "end_time": "2021-06-29T09:03:19.616630",
          "exception": false,
          "start_time": "2021-06-29T09:03:17.813357",
          "status": "completed"
        },
        "tags": []
      },
      "outputs": [
        {
          "name": "stdout",
          "output_type": "stream",
          "text": [
            "Accuracy: 0.7990521327014218\n",
            "\n",
            "Classification Report:\n",
            "               precision    recall  f1-score   support\n",
            "\n",
            "           0       0.82      0.92      0.87      1549\n",
            "           1       0.68      0.45      0.55       561\n",
            "\n",
            "    accuracy                           0.80      2110\n",
            "   macro avg       0.75      0.69      0.71      2110\n",
            "weighted avg       0.79      0.80      0.78      2110\n",
            "\n",
            "\n",
            "Confusion Matrix:\n",
            " [[1431  118]\n",
            " [ 306  255]]\n"
          ]
        }
      ],
      "source": [
        "svc = SVC(C=1.0, gamma='scale')\n",
        "svc.fit(X_train, y_train)\n",
        "\n",
        "y_pred = svc.predict(X_test)\n",
        "\n",
        "print(\"Accuracy:\", accuracy_score(y_test, y_pred))\n",
        "print(\"\\nClassification Report:\\n\", classification_report(y_test, y_pred))\n",
        "print(\"\\nConfusion Matrix:\\n\", confusion_matrix(y_test, y_pred))"
      ]
    },
    {
      "cell_type": "markdown",
      "id": "green-boating",
      "metadata": {
        "id": "green-boating",
        "papermill": {
          "duration": 0.13955,
          "end_time": "2021-06-29T09:03:20.212421",
          "exception": false,
          "start_time": "2021-06-29T09:03:20.072871",
          "status": "completed"
        },
        "tags": []
      },
      "source": [
        "<a id = \"103\" ></a>\n",
        "#### <b> Random Forest</b>\n",
        "<a id = \"rf\" ></a>"
      ]
    },
    {
      "cell_type": "code",
      "execution_count": 51,
      "id": "victorian-springer",
      "metadata": {
        "execution": {
          "iopub.execute_input": "2021-06-29T09:03:20.503556Z",
          "iopub.status.busy": "2021-06-29T09:03:20.502849Z",
          "iopub.status.idle": "2021-06-29T09:03:22.792626Z",
          "shell.execute_reply": "2021-06-29T09:03:22.791999Z",
          "shell.execute_reply.started": "2021-06-29T08:55:32.341397Z"
        },
        "id": "victorian-springer",
        "papermill": {
          "duration": 2.4373,
          "end_time": "2021-06-29T09:03:22.792785",
          "exception": false,
          "start_time": "2021-06-29T09:03:20.355485",
          "status": "completed"
        },
        "tags": []
      },
      "outputs": [
        {
          "name": "stdout",
          "output_type": "stream",
          "text": [
            "Accuracy: 0.7862559241706161\n",
            "\n",
            "Classification Report:\n",
            "               precision    recall  f1-score   support\n",
            "\n",
            "           0       0.83      0.89      0.86      1549\n",
            "           1       0.63      0.49      0.55       561\n",
            "\n",
            "    accuracy                           0.79      2110\n",
            "   macro avg       0.73      0.69      0.70      2110\n",
            "weighted avg       0.77      0.79      0.78      2110\n",
            "\n",
            "\n",
            "Confusion Matrix:\n",
            " [[1386  163]\n",
            " [ 288  273]]\n"
          ]
        }
      ],
      "source": [
        "rf = RandomForestClassifier(n_estimators=100, random_state=42)\n",
        "rf.fit(X_train, y_train)\n",
        "\n",
        "y_pred = rf.predict(X_test)\n",
        "\n",
        "print(\"Accuracy:\", accuracy_score(y_test, y_pred))\n",
        "print(\"\\nClassification Report:\\n\", classification_report(y_test, y_pred))\n",
        "print(\"\\nConfusion Matrix:\\n\", confusion_matrix(y_test, y_pred))"
      ]
    },
    {
      "cell_type": "code",
      "execution_count": 52,
      "id": "democratic-salmon",
      "metadata": {
        "execution": {
          "iopub.execute_input": "2021-06-29T09:03:23.374652Z",
          "iopub.status.busy": "2021-06-29T09:03:23.373988Z",
          "iopub.status.idle": "2021-06-29T09:03:23.615200Z",
          "shell.execute_reply": "2021-06-29T09:03:23.614679Z",
          "shell.execute_reply.started": "2021-06-29T08:55:34.744032Z"
        },
        "id": "democratic-salmon",
        "papermill": {
          "duration": 0.385771,
          "end_time": "2021-06-29T09:03:23.615349",
          "exception": false,
          "start_time": "2021-06-29T09:03:23.229578",
          "status": "completed"
        },
        "tags": []
      },
      "outputs": [
        {
          "data": {
            "image/png": "[encoded data removed]",
            "text/plain": [
              "<Figure size 800x600 with 2 Axes>"
            ]
          },
          "metadata": {},
          "output_type": "display_data"
        }
      ],
      "source": [
        "# Plot confusion matrix\n",
        "\n",
        "cm = confusion_matrix(y_test, y_pred)\n",
        "\n",
        "plt.figure(figsize=(8,6))\n",
        "sns.heatmap(cm, annot=True, fmt='d', cmap='Blues', xticklabels=set(y_test), yticklabels=set(y_test))\n",
        "plt.xlabel('Predicted')\n",
        "plt.ylabel('Actual')\n",
        "plt.title('Confusion Matrix')\n",
        "plt.show()\n"
      ]
    },
    {
      "cell_type": "code",
      "execution_count": 53,
      "id": "stopped-modem",
      "metadata": {
        "execution": {
          "iopub.execute_input": "2021-06-29T09:03:23.907887Z",
          "iopub.status.busy": "2021-06-29T09:03:23.906872Z",
          "iopub.status.idle": "2021-06-29T09:03:24.255659Z",
          "shell.execute_reply": "2021-06-29T09:03:24.256170Z",
          "shell.execute_reply.started": "2021-06-29T08:55:34.983073Z"
        },
        "id": "stopped-modem",
        "papermill": {
          "duration": 0.49813,
          "end_time": "2021-06-29T09:03:24.256355",
          "exception": false,
          "start_time": "2021-06-29T09:03:23.758225",
          "status": "completed"
        },
        "tags": []
      },
      "outputs": [
        {
          "data": {
            "image/png": "[encoded data removed]",
            "text/plain": [
              "<Figure size 800x600 with 1 Axes>"
            ]
          },
          "metadata": {},
          "output_type": "display_data"
        }
      ],
      "source": [
        "# Plot ROC curve\n",
        "\n",
        "y_prob = rf.predict_proba(X_test)[:, 1]  # probability for positive class\n",
        "\n",
        "fpr, tpr, thresholds = roc_curve(y_test, y_prob)\n",
        "roc_auc = auc(fpr, tpr)\n",
        "\n",
        "plt.figure(figsize=(8,6))\n",
        "plt.plot(fpr, tpr, color='blue', lw=2, label='ROC curve (AUC = %0.2f)' % roc_auc)\n",
        "plt.plot([0, 1], [0, 1], color='red', lw=2, linestyle='--')\n",
        "plt.xlim([0.0, 1.0])\n",
        "plt.ylim([0.0, 1.05])\n",
        "plt.xlabel('False Positive Rate')\n",
        "plt.ylabel('True Positive Rate')\n",
        "plt.title('Receiver Operating Characteristic (ROC) Curve')\n",
        "plt.legend(loc=\"lower right\")\n",
        "plt.show()\n"
      ]
    },
    {
      "cell_type": "markdown",
      "id": "smoking-signature",
      "metadata": {
        "id": "smoking-signature",
        "papermill": {
          "duration": 0.141303,
          "end_time": "2021-06-29T09:03:24.539724",
          "exception": false,
          "start_time": "2021-06-29T09:03:24.398421",
          "status": "completed"
        },
        "tags": []
      },
      "source": [
        "<a id = \"104\" ></a>\n",
        "#### <b>Logistic Regression</b>\n",
        "<a id = \"lr\" ></a>"
      ]
    },
    {
      "cell_type": "code",
      "execution_count": 54,
      "id": "applied-roots",
      "metadata": {
        "execution": {
          "iopub.execute_input": "2021-06-29T09:03:24.829506Z",
          "iopub.status.busy": "2021-06-29T09:03:24.828770Z",
          "iopub.status.idle": "2021-06-29T09:03:24.936666Z",
          "shell.execute_reply": "2021-06-29T09:03:24.937501Z",
          "shell.execute_reply.started": "2021-06-29T08:55:35.332050Z"
        },
        "id": "applied-roots",
        "papermill": {
          "duration": 0.25558,
          "end_time": "2021-06-29T09:03:24.937971",
          "exception": false,
          "start_time": "2021-06-29T09:03:24.682391",
          "status": "completed"
        },
        "tags": []
      },
      "outputs": [
        {
          "name": "stdout",
          "output_type": "stream",
          "text": [
            "Accuracy: 0.7995260663507109\n",
            "\n",
            "Classification Report:\n",
            "               precision    recall  f1-score   support\n",
            "\n",
            "           0       0.84      0.89      0.87      1549\n",
            "           1       0.65      0.54      0.59       561\n",
            "\n",
            "    accuracy                           0.80      2110\n",
            "   macro avg       0.75      0.72      0.73      2110\n",
            "weighted avg       0.79      0.80      0.79      2110\n",
            "\n",
            "\n",
            "Confusion Matrix:\n",
            " [[1386  163]\n",
            " [ 260  301]]\n"
          ]
        }
      ],
      "source": [
        "\n",
        "lr = LogisticRegression()\n",
        "lr.fit(X_train, y_train)\n",
        "\n",
        "y_pred = lr.predict(X_test)\n",
        "\n",
        "print(\"Accuracy:\", accuracy_score(y_test, y_pred))\n",
        "print(\"\\nClassification Report:\\n\", classification_report(y_test, y_pred))\n",
        "print(\"\\nConfusion Matrix:\\n\", confusion_matrix(y_test, y_pred))"
      ]
    },
    {
      "cell_type": "code",
      "execution_count": 55,
      "id": "engaged-examination",
      "metadata": {
        "execution": {
          "iopub.execute_input": "2021-06-29T09:03:26.206551Z",
          "iopub.status.busy": "2021-06-29T09:03:26.205546Z",
          "iopub.status.idle": "2021-06-29T09:03:26.416077Z",
          "shell.execute_reply": "2021-06-29T09:03:26.415570Z",
          "shell.execute_reply.started": "2021-06-29T08:55:35.715037Z"
        },
        "id": "engaged-examination",
        "papermill": {
          "duration": 0.3681,
          "end_time": "2021-06-29T09:03:26.416228",
          "exception": false,
          "start_time": "2021-06-29T09:03:26.048128",
          "status": "completed"
        },
        "tags": []
      },
      "outputs": [
        {
          "data": {
            "image/png": "[encoded data removed]",
            "text/plain": [
              "<Figure size 800x600 with 1 Axes>"
            ]
          },
          "metadata": {},
          "output_type": "display_data"
        }
      ],
      "source": [
        "# ROC curve\n",
        "\n",
        "y_prob = rf.predict_proba(X_test)[:, 1]  # probability for positive class\n",
        "\n",
        "fpr, tpr, thresholds = roc_curve(y_test, y_prob)\n",
        "roc_auc = auc(fpr, tpr)\n",
        "\n",
        "plt.figure(figsize=(8,6))\n",
        "plt.plot(fpr, tpr, color='blue', lw=2, label='ROC curve (AUC = %0.2f)' % roc_auc)\n",
        "plt.plot([0, 1], [0, 1], color='red', lw=2, linestyle='--')\n",
        "plt.xlim([0.0, 1.0])\n",
        "plt.ylim([0.0, 1.05])\n",
        "plt.xlabel('False Positive Rate')\n",
        "plt.ylabel('True Positive Rate')\n",
        "plt.title('Receiver Operating Characteristic (ROC) Curve')\n",
        "plt.legend(loc=\"lower right\")\n",
        "plt.show()"
      ]
    },
    {
      "cell_type": "markdown",
      "id": "patent-reynolds",
      "metadata": {
        "id": "patent-reynolds",
        "papermill": {
          "duration": 0.144826,
          "end_time": "2021-06-29T09:03:26.704677",
          "exception": false,
          "start_time": "2021-06-29T09:03:26.559851",
          "status": "completed"
        },
        "tags": []
      },
      "source": [
        "<a id = \"105\" ></a>\n",
        "#### **Decision Tree Classifier**\n",
        "<a id = \"dtc\" ></a>"
      ]
    },
    {
      "cell_type": "code",
      "execution_count": 56,
      "id": "developing-screw",
      "metadata": {
        "execution": {
          "iopub.execute_input": "2021-06-29T09:03:27.003355Z",
          "iopub.status.busy": "2021-06-29T09:03:27.002323Z",
          "iopub.status.idle": "2021-06-29T09:03:27.036210Z",
          "shell.execute_reply": "2021-06-29T09:03:27.036891Z",
          "shell.execute_reply.started": "2021-06-29T09:00:45.625832Z"
        },
        "id": "developing-screw",
        "papermill": {
          "duration": 0.187343,
          "end_time": "2021-06-29T09:03:27.037155",
          "exception": false,
          "start_time": "2021-06-29T09:03:26.849812",
          "status": "completed"
        },
        "tags": []
      },
      "outputs": [
        {
          "name": "stdout",
          "output_type": "stream",
          "text": [
            "Accuracy: 0.7137440758293839\n",
            "\n",
            "Classification Report:\n",
            "               precision    recall  f1-score   support\n",
            "\n",
            "           0       0.81      0.80      0.80      1549\n",
            "           1       0.46      0.49      0.48       561\n",
            "\n",
            "    accuracy                           0.71      2110\n",
            "   macro avg       0.64      0.64      0.64      2110\n",
            "weighted avg       0.72      0.71      0.72      2110\n",
            "\n",
            "\n",
            "Confusion Matrix:\n",
            " [[1232  317]\n",
            " [ 287  274]]\n"
          ]
        }
      ],
      "source": [
        "dt = DecisionTreeClassifier(random_state=42, max_depth=None, min_samples_split=2)\n",
        "dt.fit(X_train, y_train)\n",
        "\n",
        "y_pred = dt.predict(X_test)\n",
        "\n",
        "\n",
        "print(\"Accuracy:\", accuracy_score(y_test, y_pred))\n",
        "print(\"\\nClassification Report:\\n\", classification_report(y_test, y_pred))\n",
        "print(\"\\nConfusion Matrix:\\n\", confusion_matrix(y_test, y_pred))"
      ]
    },
    {
      "cell_type": "markdown",
      "id": "instant-winner",
      "metadata": {
        "id": "instant-winner",
        "papermill": {
          "duration": 0.144677,
          "end_time": "2021-06-29T09:03:27.326156",
          "exception": false,
          "start_time": "2021-06-29T09:03:27.181479",
          "status": "completed"
        },
        "tags": []
      },
      "source": [
        "Decision tree gives very low score."
      ]
    },
    {
      "cell_type": "code",
      "execution_count": 57,
      "id": "powerful-advance",
      "metadata": {
        "execution": {
          "iopub.execute_input": "2021-06-29T09:03:27.619910Z",
          "iopub.status.busy": "2021-06-29T09:03:27.618899Z",
          "iopub.status.idle": "2021-06-29T09:03:27.633488Z",
          "shell.execute_reply": "2021-06-29T09:03:27.632554Z",
          "shell.execute_reply.started": "2021-06-29T09:00:56.663959Z"
        },
        "id": "powerful-advance",
        "papermill": {
          "duration": 0.162042,
          "end_time": "2021-06-29T09:03:27.633687",
          "exception": false,
          "start_time": "2021-06-29T09:03:27.471645",
          "status": "completed"
        },
        "tags": []
      },
      "outputs": [
        {
          "data": {
            "image/png": "[encoded data removed]",
            "text/plain": [
              "<Figure size 800x600 with 2 Axes>"
            ]
          },
          "metadata": {},
          "output_type": "display_data"
        }
      ],
      "source": [
        "cm = confusion_matrix(y_test, y_pred)\n",
        "plt.figure(figsize=(8,6))\n",
        "sns.heatmap(cm, annot=True, fmt='d', cmap='Blues', xticklabels=set(y_test), yticklabels=set(y_test))\n",
        "plt.xlabel('Predicted')\n",
        "plt.ylabel('Actual')\n",
        "plt.title('Confusion Matrix')\n",
        "plt.show()"
      ]
    },
    {
      "cell_type": "markdown",
      "id": "centered-timber",
      "metadata": {
        "id": "centered-timber",
        "papermill": {
          "duration": 0.144265,
          "end_time": "2021-06-29T09:03:27.925291",
          "exception": false,
          "start_time": "2021-06-29T09:03:27.781026",
          "status": "completed"
        },
        "tags": []
      },
      "source": [
        "<a id = \"106\" ></a>\n",
        "#### **AdaBoost Classifier**\n",
        "<a id = \"ada\" ></a>"
      ]
    },
    {
      "cell_type": "code",
      "execution_count": 58,
      "id": "composed-designation",
      "metadata": {
        "execution": {
          "iopub.execute_input": "2021-06-29T09:03:28.217090Z",
          "iopub.status.busy": "2021-06-29T09:03:28.216360Z",
          "iopub.status.idle": "2021-06-29T09:03:28.524063Z",
          "shell.execute_reply": "2021-06-29T09:03:28.523175Z",
          "shell.execute_reply.started": "2021-06-29T08:55:35.952467Z"
        },
        "id": "composed-designation",
        "papermill": {
          "duration": 0.454938,
          "end_time": "2021-06-29T09:03:28.524254",
          "exception": false,
          "start_time": "2021-06-29T09:03:28.069316",
          "status": "completed"
        },
        "tags": []
      },
      "outputs": [
        {
          "name": "stdout",
          "output_type": "stream",
          "text": [
            "Accuracy: 0.79478672985782\n",
            "\n",
            "Classification Report:\n",
            "               precision    recall  f1-score   support\n",
            "\n",
            "           0       0.84      0.89      0.86      1549\n",
            "           1       0.63      0.54      0.58       561\n",
            "\n",
            "    accuracy                           0.79      2110\n",
            "   macro avg       0.74      0.71      0.72      2110\n",
            "weighted avg       0.79      0.79      0.79      2110\n",
            "\n",
            "\n",
            "Confusion Matrix:\n",
            " [[1375  174]\n",
            " [ 259  302]]\n"
          ]
        }
      ],
      "source": [
        "base_dt = DecisionTreeClassifier(max_depth=1, random_state=42)\n",
        "ada = AdaBoostClassifier(base_estimator=base_dt, n_estimators=50, learning_rate=1.0, random_state=42)\n",
        "ada.fit(X_train, y_train)\n",
        "\n",
        "y_pred = ada.predict(X_test)\n",
        "\n",
        "print(\"Accuracy:\", accuracy_score(y_test, y_pred))\n",
        "print(\"\\nClassification Report:\\n\", classification_report(y_test, y_pred))\n",
        "print(\"\\nConfusion Matrix:\\n\", confusion_matrix(y_test, y_pred))"
      ]
    },
    {
      "cell_type": "markdown",
      "id": "challenging-competition",
      "metadata": {
        "id": "challenging-competition",
        "papermill": {
          "duration": 0.152788,
          "end_time": "2021-06-29T09:03:29.683931",
          "exception": false,
          "start_time": "2021-06-29T09:03:29.531143",
          "status": "completed"
        },
        "tags": []
      },
      "source": [
        "<a id = \"107\" ></a>\n",
        "#### **Gradient Boosting Classifier**\n",
        "<a id = \"gb\" ></a>"
      ]
    },
    {
      "cell_type": "code",
      "execution_count": 59,
      "id": "plain-virginia",
      "metadata": {
        "execution": {
          "iopub.execute_input": "2021-06-29T09:03:29.991264Z",
          "iopub.status.busy": "2021-06-29T09:03:29.990627Z",
          "iopub.status.idle": "2021-06-29T09:03:30.745229Z",
          "shell.execute_reply": "2021-06-29T09:03:30.746130Z",
          "shell.execute_reply.started": "2021-06-29T08:55:36.482252Z"
        },
        "id": "plain-virginia",
        "papermill": {
          "duration": 0.908752,
          "end_time": "2021-06-29T09:03:30.746331",
          "exception": false,
          "start_time": "2021-06-29T09:03:29.837579",
          "status": "completed"
        },
        "tags": []
      },
      "outputs": [
        {
          "name": "stdout",
          "output_type": "stream",
          "text": [
            "Accuracy: 0.7985781990521327\n",
            "\n",
            "Classification Report:\n",
            "               precision    recall  f1-score   support\n",
            "\n",
            "           0       0.84      0.90      0.87      1549\n",
            "           1       0.65      0.52      0.58       561\n",
            "\n",
            "    accuracy                           0.80      2110\n",
            "   macro avg       0.74      0.71      0.72      2110\n",
            "weighted avg       0.79      0.80      0.79      2110\n",
            "\n",
            "\n",
            "Confusion Matrix:\n",
            " [[1393  156]\n",
            " [ 269  292]]\n"
          ]
        }
      ],
      "source": [
        "gbc = GradientBoostingClassifier(n_estimators=100, learning_rate=0.1, max_depth=3, random_state=42)\n",
        "gbc.fit(X_train, y_train)\n",
        "\n",
        "y_pred = gbc.predict(X_test)\n",
        "\n",
        "print(\"Accuracy:\", accuracy_score(y_test, y_pred))\n",
        "print(\"\\nClassification Report:\\n\", classification_report(y_test, y_pred))\n",
        "print(\"\\nConfusion Matrix:\\n\", confusion_matrix(y_test, y_pred))"
      ]
    },
    {
      "cell_type": "markdown",
      "id": "latin-silly",
      "metadata": {
        "id": "latin-silly",
        "papermill": {
          "duration": 0.150387,
          "end_time": "2021-06-29T09:03:31.898992",
          "exception": false,
          "start_time": "2021-06-29T09:03:31.748605",
          "status": "completed"
        },
        "tags": []
      },
      "source": [
        "<a id = \"108\" ></a>\n",
        "#### **Voting Classifier**\n",
        "<a id = \"vc\" ></a>\n",
        "Let's now predict the final model based on the highest majority of voting and check it's score."
      ]
    },
    {
      "cell_type": "code",
      "execution_count": 60,
      "id": "according-sociology",
      "metadata": {
        "execution": {
          "iopub.execute_input": "2021-06-29T09:03:32.206685Z",
          "iopub.status.busy": "2021-06-29T09:03:32.205906Z",
          "iopub.status.idle": "2021-06-29T09:03:33.376857Z",
          "shell.execute_reply": "2021-06-29T09:03:33.377677Z",
          "shell.execute_reply.started": "2021-06-29T08:55:37.447591Z"
        },
        "id": "according-sociology",
        "papermill": {
          "duration": 1.328329,
          "end_time": "2021-06-29T09:03:33.377944",
          "exception": false,
          "start_time": "2021-06-29T09:03:32.049615",
          "status": "completed"
        },
        "tags": []
      },
      "outputs": [],
      "source": [
        "voting_clf = VotingClassifier(\n",
        "    estimators=[('lr', lr), ('rf', rf), ('gb', gbc), ('ada', ada), ('svc', svc)],\n",
        "    voting='hard'\n",
        ")"
      ]
    },
    {
      "cell_type": "code",
      "execution_count": 61,
      "id": "confidential-future",
      "metadata": {
        "execution": {
          "iopub.execute_input": "2021-06-29T09:03:33.711279Z",
          "iopub.status.busy": "2021-06-29T09:03:33.710617Z",
          "iopub.status.idle": "2021-06-29T09:03:33.721622Z",
          "shell.execute_reply": "2021-06-29T09:03:33.722133Z",
          "shell.execute_reply.started": "2021-06-29T09:02:13.192644Z"
        },
        "id": "confidential-future",
        "papermill": {
          "duration": 0.165032,
          "end_time": "2021-06-29T09:03:33.722314",
          "exception": false,
          "start_time": "2021-06-29T09:03:33.557282",
          "status": "completed"
        },
        "tags": []
      },
      "outputs": [
        {
          "name": "stdout",
          "output_type": "stream",
          "text": [
            "Voting Classifier Accuracy: 0.8056872037914692\n",
            "\n",
            "Classification Report:\n",
            "               precision    recall  f1-score   support\n",
            "\n",
            "           0       0.84      0.91      0.87      1549\n",
            "           1       0.68      0.50      0.58       561\n",
            "\n",
            "    accuracy                           0.81      2110\n",
            "   macro avg       0.76      0.71      0.73      2110\n",
            "weighted avg       0.80      0.81      0.80      2110\n",
            "\n"
          ]
        }
      ],
      "source": [
        "voting_clf.fit(X_train, y_train)\n",
        "\n",
        "y_pred = voting_clf.predict(X_test)\n",
        "\n",
        "print(\"Voting Classifier Accuracy:\", accuracy_score(y_test, y_pred))\n",
        "print(\"\\nClassification Report:\\n\", classification_report(y_test, y_pred))"
      ]
    },
    {
      "cell_type": "code",
      "execution_count": 62,
      "id": "approximate-coordination",
      "metadata": {
        "execution": {
          "iopub.execute_input": "2021-06-29T09:03:34.024467Z",
          "iopub.status.busy": "2021-06-29T09:03:34.023510Z",
          "iopub.status.idle": "2021-06-29T09:03:34.267216Z",
          "shell.execute_reply": "2021-06-29T09:03:34.266668Z",
          "shell.execute_reply.started": "2021-06-29T08:55:38.609162Z"
        },
        "id": "approximate-coordination",
        "papermill": {
          "duration": 0.395696,
          "end_time": "2021-06-29T09:03:34.267386",
          "exception": false,
          "start_time": "2021-06-29T09:03:33.871690",
          "status": "completed"
        },
        "tags": []
      },
      "outputs": [
        {
          "name": "stdout",
          "output_type": "stream",
          "text": [
            "\n",
            "Confusion Matrix:\n",
            " [[1417  132]\n",
            " [ 278  283]]\n"
          ]
        }
      ],
      "source": [
        "print(\"\\nConfusion Matrix:\\n\", confusion_matrix(y_test, y_pred))"
      ]
    },
    {
      "cell_type": "markdown",
      "id": "intense-collect",
      "metadata": {
        "id": "intense-collect",
        "papermill": {
          "duration": 0.149504,
          "end_time": "2021-06-29T09:03:34.567823",
          "exception": false,
          "start_time": "2021-06-29T09:03:34.418319",
          "status": "completed"
        },
        "tags": []
      },
      "source": [
        "From the confusion matrix we can see that:\n",
        "There are a total of 1417 + 132 = 1549 actual non-churn values, and the algorithm predicts 1417 of them as non-churn and 132 of them as churn.\n",
        "While there are 278 + 283 = 561 actual churn values, and the algorithm predicts 278 of them as non-churn and 283 of them as churn."
      ]
    },
    {
      "cell_type": "markdown",
      "id": "realistic-baking",
      "metadata": {
        "id": "realistic-baking",
        "papermill": {
          "duration": 0.149706,
          "end_time": "2021-06-29T09:03:34.869969",
          "exception": false,
          "start_time": "2021-06-29T09:03:34.720263",
          "status": "completed"
        },
        "tags": []
      },
      "source": [
        "Customer churn is definitely bad to a firm ’s profitability. Various strategies can be implemented to eliminate customer churn. The best way to avoid customer churn is for a company to truly know its customers. This includes identifying customers who are at risk of churning and working to improve their satisfaction. Improving customer service is, of course, at the top of the priority for tackling this issue. Building customer loyalty through relevant experiences and specialized service is another strategy to reduce customer churn. Some firms survey customers who have already churned to understand their reasons for leaving in order to adopt a proactive approach to avoiding future customer churn."
      ]
    },
    {
      "cell_type": "markdown",
      "id": "shared-irrigation",
      "metadata": {
        "id": "shared-irrigation",
        "papermill": {
          "duration": 0.15062,
          "end_time": "2021-06-29T09:03:35.172649",
          "exception": false,
          "start_time": "2021-06-29T09:03:35.022029",
          "status": "completed"
        },
        "tags": []
      },
      "source": [
        "<span style=\"color:crimson;font-family:serif; font-size:20px;\">  Please upvote if you liked the kernel! 😀\n",
        "    <p style=\"color:royalblue;font-family:serif; font-size:20px;\">KEEP KAGGLING!</p>\n",
        "</span>"
      ]
    }
  ],
  "metadata": {
    "colab": {
      "provenance": []
    },
    "kernelspec": {
      "display_name": "py310",
      "language": "python",
      "name": "python3"
    },
    "language_info": {
      "codemirror_mode": {
        "name": "ipython",
        "version": 3
      },
      "file_extension": ".py",
      "mimetype": "text/x-python",
      "name": "python",
      "nbconvert_exporter": "python",
      "pygments_lexer": "ipython3",
      "version": "3.10.18"
    },
    "papermill": {
      "default_parameters": {},
      "duration": 60.005711,
      "end_time": "2021-06-29T09:03:36.232671",
      "environment_variables": {},
      "exception": null,
      "input_path": "__notebook__.ipynb",
      "output_path": "__notebook__.ipynb",
      "parameters": {},
      "start_time": "2021-06-29T09:02:36.226960",
      "version": "2.3.3"
    }
  },
  "nbformat": 4,
  "nbformat_minor": 5
}
